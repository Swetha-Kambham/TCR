{
  "nbformat": 4,
  "nbformat_minor": 0,
  "metadata": {
    "colab": {
      "name": "TCR1.ipynb",
      "provenance": [],
      "collapsed_sections": []
    },
    "kernelspec": {
      "name": "python3",
      "display_name": "Python 3"
    },
    "accelerator": "GPU"
  },
  "cells": [
    {
      "cell_type": "code",
      "metadata": {
        "id": "XvomyIkl7gpm",
        "colab_type": "code",
        "outputId": "96cb8907-4bca-402a-c8a8-c8728aa19064",
        "colab": {
          "base_uri": "https://localhost:8080/",
          "height": 34
        }
      },
      "source": [
        "import tensorflow as tf\n",
        "AUTOTUNE = tf.data.experimental.AUTOTUNE\n",
        "import IPython.display as display\n",
        "from PIL import Image\n",
        "import numpy as np\n",
        "import matplotlib.pyplot as plt\n",
        "import os\n",
        "tf.__version__"
      ],
      "execution_count": 1,
      "outputs": [
        {
          "output_type": "execute_result",
          "data": {
            "text/plain": [
              "'2.2.0'"
            ]
          },
          "metadata": {
            "tags": []
          },
          "execution_count": 1
        }
      ]
    },
    {
      "cell_type": "code",
      "metadata": {
        "id": "hsJ_HCJt8F0W",
        "colab_type": "code",
        "colab": {}
      },
      "source": [
        "import pathlib"
      ],
      "execution_count": 0,
      "outputs": []
    },
    {
      "cell_type": "code",
      "metadata": {
        "id": "to8Sme5J8Gcw",
        "colab_type": "code",
        "outputId": "6ee1c0b0-fd10-4531-d578-09ba887dd0af",
        "colab": {
          "base_uri": "https://localhost:8080/",
          "height": 1000
        }
      },
      "source": [
        "!unzip \"/content/drive/My Drive/cnn.zip\""
      ],
      "execution_count": 3,
      "outputs": [
        {
          "output_type": "stream",
          "text": [
            "Archive:  /content/drive/My Drive/cnn.zip\n",
            "   creating: cnn/\n",
            "   creating: cnn/ba1/\n",
            "  inflating: cnn/ba1/char0048.jpg    \n",
            "  inflating: cnn/ba1/char0047.jpg    \n",
            "  inflating: cnn/ba1/char0046.jpg    \n",
            "  inflating: cnn/ba1/char0045.jpg    \n",
            "  inflating: cnn/ba1/char0036.jpg    \n",
            "  inflating: cnn/ba1/char0035.jpg    \n",
            "  inflating: cnn/ba1/char0034.jpg    \n",
            "  inflating: cnn/ba1/char0033.jpg    \n",
            "  inflating: cnn/ba1/char0028.jpg    \n",
            "  inflating: cnn/ba1/char0027.jpg    \n",
            "  inflating: cnn/ba1/char0026.jpg    \n",
            "  inflating: cnn/ba1/char0025.jpg    \n",
            "  inflating: cnn/ba1/char0020.jpg    \n",
            "  inflating: cnn/ba1/char0019.jpg    \n",
            "  inflating: cnn/ba1/char0018.jpg    \n",
            "  inflating: cnn/ba1/char0017.jpg    \n",
            "  inflating: cnn/ba1/char0008.jpg    \n",
            "  inflating: cnn/ba1/char0007.jpg    \n",
            "  inflating: cnn/ba1/char0006.jpg    \n",
            "  inflating: cnn/ba1/char0005.jpg    \n",
            "  inflating: cnn/ba1/char0004.jpg    \n",
            "  inflating: cnn/ba1/char0003.jpg    \n",
            "  inflating: cnn/ba1/char0002.jpg    \n",
            "  inflating: cnn/ba1/char0001.jpg    \n",
            "   creating: cnn/ana/\n",
            "  inflating: cnn/ana/char0048.jpg    \n",
            "  inflating: cnn/ana/char0047.jpg    \n",
            "  inflating: cnn/ana/char0046.jpg    \n",
            "  inflating: cnn/ana/char0045.jpg    \n",
            "  inflating: cnn/ana/char0036.jpg    \n",
            "  inflating: cnn/ana/char0035.jpg    \n",
            "  inflating: cnn/ana/char0034.jpg    \n",
            "  inflating: cnn/ana/char0033.jpg    \n",
            "  inflating: cnn/ana/char0028.jpg    \n",
            "  inflating: cnn/ana/char0027.jpg    \n",
            "  inflating: cnn/ana/char0026.jpg    \n",
            "  inflating: cnn/ana/char0025.jpg    \n",
            "  inflating: cnn/ana/char0020.jpg    \n",
            "  inflating: cnn/ana/char0019.jpg    \n",
            "  inflating: cnn/ana/char0018.jpg    \n",
            "  inflating: cnn/ana/char0017.jpg    \n",
            "  inflating: cnn/ana/char0008.jpg    \n",
            "  inflating: cnn/ana/char0007.jpg    \n",
            "  inflating: cnn/ana/char0006.jpg    \n",
            "  inflating: cnn/ana/char0005.jpg    \n",
            "  inflating: cnn/ana/char0004.jpg    \n",
            "  inflating: cnn/ana/char0003.jpg    \n",
            "  inflating: cnn/ana/char0002.jpg    \n",
            "  inflating: cnn/ana/char0001.jpg    \n",
            "   creating: cnn/a2/\n",
            "  inflating: cnn/a2/char0048.jpg     \n",
            "  inflating: cnn/a2/char0047.jpg     \n",
            "  inflating: cnn/a2/char0046.jpg     \n",
            "  inflating: cnn/a2/char0045.jpg     \n",
            "  inflating: cnn/a2/char0036.jpg     \n",
            "  inflating: cnn/a2/char0035.jpg     \n",
            "  inflating: cnn/a2/char0034.jpg     \n",
            "  inflating: cnn/a2/char0033.jpg     \n",
            "  inflating: cnn/a2/char0028.jpg     \n",
            "  inflating: cnn/a2/char0027.jpg     \n",
            "  inflating: cnn/a2/char0026.jpg     \n",
            "  inflating: cnn/a2/char0025.jpg     \n",
            "  inflating: cnn/a2/char0020.jpg     \n",
            "  inflating: cnn/a2/char0019.jpg     \n",
            "  inflating: cnn/a2/char0018.jpg     \n",
            "  inflating: cnn/a2/char0017.jpg     \n",
            "  inflating: cnn/a2/char0008.jpg     \n",
            "  inflating: cnn/a2/char0007.jpg     \n",
            "  inflating: cnn/a2/char0006.jpg     \n",
            "  inflating: cnn/a2/char0005.jpg     \n",
            "  inflating: cnn/a2/char0004.jpg     \n",
            "  inflating: cnn/a2/char0003.jpg     \n",
            "  inflating: cnn/a2/char0002.jpg     \n",
            "  inflating: cnn/a2/char0001.jpg     \n",
            "   creating: cnn/a1/\n",
            "  inflating: cnn/a1/char0048.jpg     \n",
            "  inflating: cnn/a1/char0047.jpg     \n",
            "  inflating: cnn/a1/char0046.jpg     \n",
            "  inflating: cnn/a1/char0045.jpg     \n",
            "  inflating: cnn/a1/char0036.jpg     \n",
            "  inflating: cnn/a1/char0035.jpg     \n",
            "  inflating: cnn/a1/char0034.jpg     \n",
            "  inflating: cnn/a1/char0033.jpg     \n",
            "  inflating: cnn/a1/char0028.jpg     \n",
            "  inflating: cnn/a1/char0027.jpg     \n",
            "  inflating: cnn/a1/char0026.jpg     \n",
            "  inflating: cnn/a1/char0025.jpg     \n",
            "  inflating: cnn/a1/char0020.jpg     \n",
            "  inflating: cnn/a1/char0019.jpg     \n",
            "  inflating: cnn/a1/char0018.jpg     \n",
            "  inflating: cnn/a1/char0017.jpg     \n",
            "  inflating: cnn/a1/char0008.jpg     \n",
            "  inflating: cnn/a1/char0007.jpg     \n",
            "  inflating: cnn/a1/char0006.jpg     \n",
            "  inflating: cnn/a1/char0005.jpg     \n",
            "  inflating: cnn/a1/char0004.jpg     \n",
            "  inflating: cnn/a1/char0003.jpg     \n",
            "  inflating: cnn/a1/char0002.jpg     \n",
            "  inflating: cnn/a1/char0001.jpg     \n",
            "   creating: cnn/ya/\n",
            "  inflating: cnn/ya/char0048.jpg     \n",
            "  inflating: cnn/ya/char0047.jpg     \n",
            "  inflating: cnn/ya/char0046.jpg     \n",
            "  inflating: cnn/ya/char0045.jpg     \n",
            "  inflating: cnn/ya/char0036.jpg     \n",
            "  inflating: cnn/ya/char0035.jpg     \n",
            "  inflating: cnn/ya/char0034.jpg     \n",
            "  inflating: cnn/ya/char0033.jpg     \n",
            "  inflating: cnn/ya/char0028.jpg     \n",
            "  inflating: cnn/ya/char0027.jpg     \n",
            "  inflating: cnn/ya/char0026.jpg     \n",
            "  inflating: cnn/ya/char0025.jpg     \n",
            "  inflating: cnn/ya/char0020.jpg     \n",
            "  inflating: cnn/ya/char0019.jpg     \n",
            "  inflating: cnn/ya/char0018.jpg     \n",
            "  inflating: cnn/ya/char0017.jpg     \n",
            "  inflating: cnn/ya/char0008.jpg     \n",
            "  inflating: cnn/ya/char0007.jpg     \n",
            "  inflating: cnn/ya/char0006.jpg     \n",
            "  inflating: cnn/ya/char0005.jpg     \n",
            "  inflating: cnn/ya/char0004.jpg     \n",
            "  inflating: cnn/ya/char0003.jpg     \n",
            "  inflating: cnn/ya/char0002.jpg     \n",
            "  inflating: cnn/ya/char0001.jpg     \n",
            "   creating: cnn/va/\n",
            "  inflating: cnn/va/char0048.jpg     \n",
            "  inflating: cnn/va/char0047.jpg     \n",
            "  inflating: cnn/va/char0046.jpg     \n",
            "  inflating: cnn/va/char0045.jpg     \n",
            "  inflating: cnn/va/char0036.jpg     \n",
            "  inflating: cnn/va/char0035.jpg     \n",
            "  inflating: cnn/va/char0034.jpg     \n",
            "  inflating: cnn/va/char0033.jpg     \n",
            "  inflating: cnn/va/char0028.jpg     \n",
            "  inflating: cnn/va/char0027.jpg     \n",
            "  inflating: cnn/va/char0026.jpg     \n",
            "  inflating: cnn/va/char0025.jpg     \n",
            "  inflating: cnn/va/char0020.jpg     \n",
            "  inflating: cnn/va/char0019.jpg     \n",
            "  inflating: cnn/va/char0018.jpg     \n",
            "  inflating: cnn/va/char0017.jpg     \n",
            "  inflating: cnn/va/char0008.jpg     \n",
            "  inflating: cnn/va/char0007.jpg     \n",
            "  inflating: cnn/va/char0006.jpg     \n",
            "  inflating: cnn/va/char0005.jpg     \n",
            "  inflating: cnn/va/char0004.jpg     \n",
            "  inflating: cnn/va/char0003.jpg     \n",
            "  inflating: cnn/va/char0002.jpg     \n",
            "  inflating: cnn/va/char0001.jpg     \n",
            "   creating: cnn/um/\n",
            "  inflating: cnn/um/char0048.jpg     \n",
            "  inflating: cnn/um/char0047.jpg     \n",
            "  inflating: cnn/um/char0046.jpg     \n",
            "  inflating: cnn/um/char0045.jpg     \n",
            "  inflating: cnn/um/char0036.jpg     \n",
            "  inflating: cnn/um/char0035.jpg     \n",
            "  inflating: cnn/um/char0034.jpg     \n",
            "  inflating: cnn/um/char0033.jpg     \n",
            "  inflating: cnn/um/char0028.jpg     \n",
            "  inflating: cnn/um/char0027.jpg     \n",
            "  inflating: cnn/um/char0026.jpg     \n",
            "  inflating: cnn/um/char0025.jpg     \n",
            "  inflating: cnn/um/char0020.jpg     \n",
            "  inflating: cnn/um/char0019.jpg     \n",
            "  inflating: cnn/um/char0018.jpg     \n",
            "  inflating: cnn/um/char0017.jpg     \n",
            "  inflating: cnn/um/char0008.jpg     \n",
            "  inflating: cnn/um/char0007.jpg     \n",
            "  inflating: cnn/um/char0006.jpg     \n",
            "  inflating: cnn/um/char0005.jpg     \n",
            "  inflating: cnn/um/char0004.jpg     \n",
            "  inflating: cnn/um/char0003.jpg     \n",
            "  inflating: cnn/um/char0002.jpg     \n",
            "  inflating: cnn/um/char0001.jpg     \n",
            "   creating: cnn/u2/\n",
            "  inflating: cnn/u2/char0048.jpg     \n",
            "  inflating: cnn/u2/char0047.jpg     \n",
            "  inflating: cnn/u2/char0046.jpg     \n",
            "  inflating: cnn/u2/char0045.jpg     \n",
            "  inflating: cnn/u2/char0036.jpg     \n",
            "  inflating: cnn/u2/char0035.jpg     \n",
            "  inflating: cnn/u2/char0034.jpg     \n",
            "  inflating: cnn/u2/char0033.jpg     \n",
            "  inflating: cnn/u2/char0028.jpg     \n",
            "  inflating: cnn/u2/char0027.jpg     \n",
            "  inflating: cnn/u2/char0026.jpg     \n",
            "  inflating: cnn/u2/char0025.jpg     \n",
            "  inflating: cnn/u2/char0020.jpg     \n",
            "  inflating: cnn/u2/char0019.jpg     \n",
            "  inflating: cnn/u2/char0018.jpg     \n",
            "  inflating: cnn/u2/char0017.jpg     \n",
            "  inflating: cnn/u2/char0008.jpg     \n",
            "  inflating: cnn/u2/char0007.jpg     \n",
            "  inflating: cnn/u2/char0006.jpg     \n",
            "  inflating: cnn/u2/char0005.jpg     \n",
            "  inflating: cnn/u2/char0004.jpg     \n",
            "  inflating: cnn/u2/char0003.jpg     \n",
            "  inflating: cnn/u2/char0002.jpg     \n",
            "  inflating: cnn/u2/char0001.jpg     \n",
            "   creating: cnn/u1/\n",
            "  inflating: cnn/u1/char0048.jpg     \n",
            "  inflating: cnn/u1/char0047.jpg     \n",
            "  inflating: cnn/u1/char0046.jpg     \n",
            "  inflating: cnn/u1/char0045.jpg     \n",
            "  inflating: cnn/u1/char0036.jpg     \n",
            "  inflating: cnn/u1/char0035.jpg     \n",
            "  inflating: cnn/u1/char0034.jpg     \n",
            "  inflating: cnn/u1/char0033.jpg     \n",
            "  inflating: cnn/u1/char0028.jpg     \n",
            "  inflating: cnn/u1/char0027.jpg     \n",
            "  inflating: cnn/u1/char0026.jpg     \n",
            "  inflating: cnn/u1/char0025.jpg     \n",
            "  inflating: cnn/u1/char0020.jpg     \n",
            "  inflating: cnn/u1/char0019.jpg     \n",
            "  inflating: cnn/u1/char0018.jpg     \n",
            "  inflating: cnn/u1/char0017.jpg     \n",
            "  inflating: cnn/u1/char0008.jpg     \n",
            "  inflating: cnn/u1/char0007.jpg     \n",
            "  inflating: cnn/u1/char0006.jpg     \n",
            "  inflating: cnn/u1/char0005.jpg     \n",
            "  inflating: cnn/u1/char0004.jpg     \n",
            "  inflating: cnn/u1/char0003.jpg     \n",
            "  inflating: cnn/u1/char0002.jpg     \n",
            "  inflating: cnn/u1/char0001.jpg     \n",
            "   creating: cnn/tha1/\n",
            "  inflating: cnn/tha1/char0048.jpg   \n",
            "  inflating: cnn/tha1/char0047.jpg   \n",
            "  inflating: cnn/tha1/char0046.jpg   \n",
            "  inflating: cnn/tha1/char0045.jpg   \n",
            "  inflating: cnn/tha1/char0036.jpg   \n",
            "  inflating: cnn/tha1/char0035.jpg   \n",
            "  inflating: cnn/tha1/char0034.jpg   \n",
            "  inflating: cnn/tha1/char0033.jpg   \n",
            "  inflating: cnn/tha1/char0028.jpg   \n",
            "  inflating: cnn/tha1/char0027.jpg   \n",
            "  inflating: cnn/tha1/char0026.jpg   \n",
            "  inflating: cnn/tha1/char0025.jpg   \n",
            "  inflating: cnn/tha1/char0020.jpg   \n",
            "  inflating: cnn/tha1/char0019.jpg   \n",
            "  inflating: cnn/tha1/char0018.jpg   \n",
            "  inflating: cnn/tha1/char0017.jpg   \n",
            "  inflating: cnn/tha1/char0008.jpg   \n",
            "  inflating: cnn/tha1/char0007.jpg   \n",
            "  inflating: cnn/tha1/char0006.jpg   \n",
            "  inflating: cnn/tha1/char0005.jpg   \n",
            "  inflating: cnn/tha1/char0004.jpg   \n",
            "  inflating: cnn/tha1/char0003.jpg   \n",
            "  inflating: cnn/tha1/char0002.jpg   \n",
            "  inflating: cnn/tha1/char0001.jpg   \n",
            "   creating: cnn/ta1/\n",
            "  inflating: cnn/ta1/char0048.jpg    \n",
            "  inflating: cnn/ta1/char0047.jpg    \n",
            "  inflating: cnn/ta1/char0046.jpg    \n",
            "  inflating: cnn/ta1/char0045.jpg    \n",
            "  inflating: cnn/ta1/char0036.jpg    \n",
            "  inflating: cnn/ta1/char0035.jpg    \n",
            "  inflating: cnn/ta1/char0034.jpg    \n",
            "  inflating: cnn/ta1/char0033.jpg    \n",
            "  inflating: cnn/ta1/char0028.jpg    \n",
            "  inflating: cnn/ta1/char0027.jpg    \n",
            "  inflating: cnn/ta1/char0026.jpg    \n",
            "  inflating: cnn/ta1/char0025.jpg    \n",
            "  inflating: cnn/ta1/char0020.jpg    \n",
            "  inflating: cnn/ta1/char0019.jpg    \n",
            "  inflating: cnn/ta1/char0018.jpg    \n",
            "  inflating: cnn/ta1/char0017.jpg    \n",
            "  inflating: cnn/ta1/char0008.jpg    \n",
            "  inflating: cnn/ta1/char0007.jpg    \n",
            "  inflating: cnn/ta1/char0006.jpg    \n",
            "  inflating: cnn/ta1/char0005.jpg    \n",
            "  inflating: cnn/ta1/char0004.jpg    \n",
            "  inflating: cnn/ta1/char0003.jpg    \n",
            "  inflating: cnn/ta1/char0002.jpg    \n",
            "  inflating: cnn/ta1/char0001.jpg    \n",
            "   creating: cnn/sa3/\n",
            "  inflating: cnn/sa3/char0048.jpg    \n",
            "  inflating: cnn/sa3/char0047.jpg    \n",
            "  inflating: cnn/sa3/char0046.jpg    \n",
            "  inflating: cnn/sa3/char0045.jpg    \n",
            "  inflating: cnn/sa3/char0036.jpg    \n",
            "  inflating: cnn/sa3/char0035.jpg    \n",
            "  inflating: cnn/sa3/char0034.jpg    \n",
            "  inflating: cnn/sa3/char0033.jpg    \n",
            "  inflating: cnn/sa3/char0028.jpg    \n",
            "  inflating: cnn/sa3/char0027.jpg    \n",
            "  inflating: cnn/sa3/char0026.jpg    \n",
            "  inflating: cnn/sa3/char0025.jpg    \n",
            "  inflating: cnn/sa3/char0020.jpg    \n",
            "  inflating: cnn/sa3/char0019.jpg    \n",
            "  inflating: cnn/sa3/char0018.jpg    \n",
            "  inflating: cnn/sa3/char0017.jpg    \n",
            "  inflating: cnn/sa3/char0008.jpg    \n",
            "  inflating: cnn/sa3/char0007.jpg    \n",
            "  inflating: cnn/sa3/char0006.jpg    \n",
            "  inflating: cnn/sa3/char0005.jpg    \n",
            "  inflating: cnn/sa3/char0004.jpg    \n",
            "  inflating: cnn/sa3/char0003.jpg    \n",
            "  inflating: cnn/sa3/char0002.jpg    \n",
            "  inflating: cnn/sa3/char0001.jpg    \n",
            "   creating: cnn/sa2/\n",
            "  inflating: cnn/sa2/char0048_1.jpg  \n",
            "  inflating: cnn/sa2/char0048.jpg    \n",
            "  inflating: cnn/sa2/char0047_1.jpg  \n",
            "  inflating: cnn/sa2/char0047.jpg    \n",
            "  inflating: cnn/sa2/char0046_1.jpg  \n",
            "  inflating: cnn/sa2/char0046.jpg    \n",
            "  inflating: cnn/sa2/char0045_1.jpg  \n",
            "  inflating: cnn/sa2/char0045.jpg    \n",
            "  inflating: cnn/sa2/char0036_1.jpg  \n",
            "  inflating: cnn/sa2/char0036.jpg    \n",
            "  inflating: cnn/sa2/char0035_1.jpg  \n",
            "  inflating: cnn/sa2/char0035.jpg    \n",
            "  inflating: cnn/sa2/char0034_1.jpg  \n",
            "  inflating: cnn/sa2/char0034.jpg    \n",
            "  inflating: cnn/sa2/char0033_1.jpg  \n",
            "  inflating: cnn/sa2/char0033.jpg    \n",
            "  inflating: cnn/sa2/char0028_1.jpg  \n",
            "  inflating: cnn/sa2/char0028.jpg    \n",
            "  inflating: cnn/sa2/char0027_1.jpg  \n",
            "  inflating: cnn/sa2/char0027.jpg    \n",
            "  inflating: cnn/sa2/char0026_1.jpg  \n",
            "  inflating: cnn/sa2/char0026.jpg    \n",
            "  inflating: cnn/sa2/char0025_1.jpg  \n",
            "  inflating: cnn/sa2/char0025.jpg    \n",
            "  inflating: cnn/sa2/char0020_1.jpg  \n",
            "  inflating: cnn/sa2/char0020.jpg    \n",
            "  inflating: cnn/sa2/char0019_1.jpg  \n",
            "  inflating: cnn/sa2/char0019.jpg    \n",
            "  inflating: cnn/sa2/char0018_1.jpg  \n",
            "  inflating: cnn/sa2/char0018.jpg    \n",
            "  inflating: cnn/sa2/char0017_1.jpg  \n",
            "  inflating: cnn/sa2/char0017.jpg    \n",
            "  inflating: cnn/sa2/char0008_1.jpg  \n",
            "  inflating: cnn/sa2/char0008.jpg    \n",
            "  inflating: cnn/sa2/char0007_1.jpg  \n",
            "  inflating: cnn/sa2/char0007.jpg    \n",
            "  inflating: cnn/sa2/char0006_1.jpg  \n",
            "  inflating: cnn/sa2/char0006.jpg    \n",
            "  inflating: cnn/sa2/char0005_1.jpg  \n",
            "  inflating: cnn/sa2/char0005.jpg    \n",
            "  inflating: cnn/sa2/char0004_1.jpg  \n",
            "  inflating: cnn/sa2/char0004.jpg    \n",
            "  inflating: cnn/sa2/char0003_1.jpg  \n",
            "  inflating: cnn/sa2/char0003.jpg    \n",
            "  inflating: cnn/sa2/char0002_1.jpg  \n",
            "  inflating: cnn/sa2/char0002.jpg    \n",
            "  inflating: cnn/sa2/char0001_1.jpg  \n",
            "  inflating: cnn/sa2/char0001.jpg    \n",
            "   creating: cnn/sa1/\n",
            "  inflating: cnn/sa1/char0048.jpg    \n",
            "  inflating: cnn/sa1/char0047.jpg    \n",
            "  inflating: cnn/sa1/char0046.jpg    \n",
            "  inflating: cnn/sa1/char0045.jpg    \n",
            "  inflating: cnn/sa1/char0036.jpg    \n",
            "  inflating: cnn/sa1/char0035.jpg    \n",
            "  inflating: cnn/sa1/char0034.jpg    \n",
            "  inflating: cnn/sa1/char0033.jpg    \n",
            "  inflating: cnn/sa1/char0028.jpg    \n",
            "  inflating: cnn/sa1/char0027.jpg    \n",
            "  inflating: cnn/sa1/char0026.jpg    \n",
            "  inflating: cnn/sa1/char0025.jpg    \n",
            "  inflating: cnn/sa1/char0020.jpg    \n",
            "  inflating: cnn/sa1/char0019.jpg    \n",
            "  inflating: cnn/sa1/char0018.jpg    \n",
            "  inflating: cnn/sa1/char0017.jpg    \n",
            "  inflating: cnn/sa1/char0008.jpg    \n",
            "  inflating: cnn/sa1/char0007.jpg    \n",
            "  inflating: cnn/sa1/char0006.jpg    \n",
            "  inflating: cnn/sa1/char0005.jpg    \n",
            "  inflating: cnn/sa1/char0004.jpg    \n",
            "  inflating: cnn/sa1/char0003.jpg    \n",
            "  inflating: cnn/sa1/char0002.jpg    \n",
            "  inflating: cnn/sa1/char0001.jpg    \n",
            "   creating: cnn/ru/\n",
            "  inflating: cnn/ru/char0048.jpg     \n",
            "  inflating: cnn/ru/char0047.jpg     \n",
            "  inflating: cnn/ru/char0046.jpg     \n",
            "  inflating: cnn/ru/char0045.jpg     \n",
            "  inflating: cnn/ru/char0036.jpg     \n",
            "  inflating: cnn/ru/char0035.jpg     \n",
            "  inflating: cnn/ru/char0034.jpg     \n",
            "  inflating: cnn/ru/char0033.jpg     \n",
            "  inflating: cnn/ru/char0028.jpg     \n",
            "  inflating: cnn/ru/char0027.jpg     \n",
            "  inflating: cnn/ru/char0026.jpg     \n",
            "  inflating: cnn/ru/char0025.jpg     \n",
            "  inflating: cnn/ru/char0020.jpg     \n",
            "  inflating: cnn/ru/char0019.jpg     \n",
            "  inflating: cnn/ru/char0018.jpg     \n",
            "  inflating: cnn/ru/char0017.jpg     \n",
            "  inflating: cnn/ru/char0008.jpg     \n",
            "  inflating: cnn/ru/char0007.jpg     \n",
            "  inflating: cnn/ru/char0006.jpg     \n",
            "  inflating: cnn/ru/char0005.jpg     \n",
            "  inflating: cnn/ru/char0004.jpg     \n",
            "  inflating: cnn/ru/char0003.jpg     \n",
            "  inflating: cnn/ru/char0002.jpg     \n",
            "  inflating: cnn/ru/char0001.jpg     \n",
            "   creating: cnn/ra2/\n",
            "  inflating: cnn/ra2/char0048.jpg    \n",
            "  inflating: cnn/ra2/char0047.jpg    \n",
            "  inflating: cnn/ra2/char0046.jpg    \n",
            "  inflating: cnn/ra2/char0045.jpg    \n",
            "  inflating: cnn/ra2/char0036.jpg    \n",
            "  inflating: cnn/ra2/char0035.jpg    \n",
            "  inflating: cnn/ra2/char0034.jpg    \n",
            "  inflating: cnn/ra2/char0033.jpg    \n",
            "  inflating: cnn/ra2/char0028.jpg    \n",
            "  inflating: cnn/ra2/char0027.jpg    \n",
            "  inflating: cnn/ra2/char0026.jpg    \n",
            "  inflating: cnn/ra2/char0025.jpg    \n",
            "  inflating: cnn/ra2/char0020.jpg    \n",
            "  inflating: cnn/ra2/char0019.jpg    \n",
            "  inflating: cnn/ra2/char0018.jpg    \n",
            "  inflating: cnn/ra2/char0017.jpg    \n",
            "  inflating: cnn/ra2/char0008.jpg    \n",
            "  inflating: cnn/ra2/char0007.jpg    \n",
            "  inflating: cnn/ra2/char0006.jpg    \n",
            "  inflating: cnn/ra2/char0005.jpg    \n",
            "  inflating: cnn/ra2/char0004.jpg    \n",
            "  inflating: cnn/ra2/char0003.jpg    \n",
            "  inflating: cnn/ra2/char0002.jpg    \n",
            "  inflating: cnn/ra2/char0001.jpg    \n",
            "   creating: cnn/ra1/\n",
            "  inflating: cnn/ra1/char0048.jpg    \n",
            "  inflating: cnn/ra1/char0047.jpg    \n",
            "  inflating: cnn/ra1/char0046.jpg    \n",
            "  inflating: cnn/ra1/char0045.jpg    \n",
            "  inflating: cnn/ra1/char0036.jpg    \n",
            "  inflating: cnn/ra1/char0035.jpg    \n",
            "  inflating: cnn/ra1/char0034.jpg    \n",
            "  inflating: cnn/ra1/char0033.jpg    \n",
            "  inflating: cnn/ra1/char0028.jpg    \n",
            "  inflating: cnn/ra1/char0027.jpg    \n",
            "  inflating: cnn/ra1/char0026.jpg    \n",
            "  inflating: cnn/ra1/char0025.jpg    \n",
            "  inflating: cnn/ra1/char0020.jpg    \n",
            "  inflating: cnn/ra1/char0019.jpg    \n",
            "  inflating: cnn/ra1/char0018.jpg    \n",
            "  inflating: cnn/ra1/char0017.jpg    \n",
            "  inflating: cnn/ra1/char0008.jpg    \n",
            "  inflating: cnn/ra1/char0007.jpg    \n",
            "  inflating: cnn/ra1/char0006.jpg    \n",
            "  inflating: cnn/ra1/char0005.jpg    \n",
            "  inflating: cnn/ra1/char0004.jpg    \n",
            "  inflating: cnn/ra1/char0003.jpg    \n",
            "  inflating: cnn/ra1/char0002.jpg    \n",
            "  inflating: cnn/ra1/char0001.jpg    \n",
            "   creating: cnn/pa2/\n",
            "  inflating: cnn/pa2/char0048.jpg    \n",
            "  inflating: cnn/pa2/char0047.jpg    \n",
            "  inflating: cnn/pa2/char0046.jpg    \n",
            "  inflating: cnn/pa2/char0045.jpg    \n",
            "  inflating: cnn/pa2/char0036.jpg    \n",
            "  inflating: cnn/pa2/char0035.jpg    \n",
            "  inflating: cnn/pa2/char0034.jpg    \n",
            "  inflating: cnn/pa2/char0033.jpg    \n",
            "  inflating: cnn/pa2/char0028.jpg    \n",
            "  inflating: cnn/pa2/char0027.jpg    \n",
            "  inflating: cnn/pa2/char0026.jpg    \n",
            "  inflating: cnn/pa2/char0025.jpg    \n",
            "  inflating: cnn/pa2/char0020.jpg    \n",
            "  inflating: cnn/pa2/char0019.jpg    \n",
            "  inflating: cnn/pa2/char0018.jpg    \n",
            "  inflating: cnn/pa2/char0017.jpg    \n",
            "  inflating: cnn/pa2/char0008.jpg    \n",
            "  inflating: cnn/pa2/char0007.jpg    \n",
            "  inflating: cnn/pa2/char0006.jpg    \n",
            "  inflating: cnn/pa2/char0005.jpg    \n",
            "  inflating: cnn/pa2/char0004.jpg    \n",
            "  inflating: cnn/pa2/char0003.jpg    \n",
            "  inflating: cnn/pa2/char0002.jpg    \n",
            "  inflating: cnn/pa2/char0001.jpg    \n",
            "   creating: cnn/pa1/\n",
            "  inflating: cnn/pa1/char0048.jpg    \n",
            "  inflating: cnn/pa1/char0047.jpg    \n",
            "  inflating: cnn/pa1/char0046.jpg    \n",
            "  inflating: cnn/pa1/char0045.jpg    \n",
            "  inflating: cnn/pa1/char0036.jpg    \n",
            "  inflating: cnn/pa1/char0035.jpg    \n",
            "  inflating: cnn/pa1/char0034.jpg    \n",
            "  inflating: cnn/pa1/char0033.jpg    \n",
            "  inflating: cnn/pa1/char0028.jpg    \n",
            "  inflating: cnn/pa1/char0027.jpg    \n",
            "  inflating: cnn/pa1/char0026.jpg    \n",
            "  inflating: cnn/pa1/char0025.jpg    \n",
            "  inflating: cnn/pa1/char0020.jpg    \n",
            "  inflating: cnn/pa1/char0019.jpg    \n",
            "  inflating: cnn/pa1/char0018.jpg    \n",
            "  inflating: cnn/pa1/char0017.jpg    \n",
            "  inflating: cnn/pa1/char0008.jpg    \n",
            "  inflating: cnn/pa1/char0007.jpg    \n",
            "  inflating: cnn/pa1/char0006.jpg    \n",
            "  inflating: cnn/pa1/char0005.jpg    \n",
            "  inflating: cnn/pa1/char0004.jpg    \n",
            "  inflating: cnn/pa1/char0003.jpg    \n",
            "  inflating: cnn/pa1/char0002.jpg    \n",
            "  inflating: cnn/pa1/char0001.jpg    \n",
            "   creating: cnn/o3/\n",
            "  inflating: cnn/o3/char0048_1.jpg   \n",
            "  inflating: cnn/o3/char0048.jpg     \n",
            "  inflating: cnn/o3/char0047_1.jpg   \n",
            "  inflating: cnn/o3/char0047.jpg     \n",
            "  inflating: cnn/o3/char0046_1.jpg   \n",
            "  inflating: cnn/o3/char0046.jpg     \n",
            "  inflating: cnn/o3/char0045_1.jpg   \n",
            "  inflating: cnn/o3/char0045.jpg     \n",
            "  inflating: cnn/o3/char0036_1.jpg   \n",
            "  inflating: cnn/o3/char0036.jpg     \n",
            "  inflating: cnn/o3/char0035_1.jpg   \n",
            "  inflating: cnn/o3/char0035.jpg     \n",
            "  inflating: cnn/o3/char0034_1.jpg   \n",
            "  inflating: cnn/o3/char0034.jpg     \n",
            "  inflating: cnn/o3/char0033_1.jpg   \n",
            "  inflating: cnn/o3/char0033.jpg     \n",
            "  inflating: cnn/o3/char0028_1.jpg   \n",
            "  inflating: cnn/o3/char0028.jpg     \n",
            "  inflating: cnn/o3/char0027_1.jpg   \n",
            "  inflating: cnn/o3/char0027.jpg     \n",
            "  inflating: cnn/o3/char0026_1.jpg   \n",
            "  inflating: cnn/o3/char0026.jpg     \n",
            "  inflating: cnn/o3/char0025_1.jpg   \n",
            "  inflating: cnn/o3/char0025.jpg     \n",
            "  inflating: cnn/o3/char0020_1.jpg   \n",
            "  inflating: cnn/o3/char0020.jpg     \n",
            "  inflating: cnn/o3/char0019_1.jpg   \n",
            "  inflating: cnn/o3/char0019.jpg     \n",
            "  inflating: cnn/o3/char0018_1.jpg   \n",
            "  inflating: cnn/o3/char0018.jpg     \n",
            "  inflating: cnn/o3/char0017_1.jpg   \n",
            "  inflating: cnn/o3/char0017.jpg     \n",
            "  inflating: cnn/o3/char0008_1.jpg   \n",
            "  inflating: cnn/o3/char0008.jpg     \n",
            "  inflating: cnn/o3/char0007_1.jpg   \n",
            "  inflating: cnn/o3/char0007.jpg     \n",
            "  inflating: cnn/o3/char0006_1.jpg   \n",
            "  inflating: cnn/o3/char0006.jpg     \n",
            "  inflating: cnn/o3/char0005_1.jpg   \n",
            "  inflating: cnn/o3/char0005.jpg     \n",
            "  inflating: cnn/o3/char0004_1.jpg   \n",
            "  inflating: cnn/o3/char0004.jpg     \n",
            "  inflating: cnn/o3/char0003_1.jpg   \n",
            "  inflating: cnn/o3/char0003.jpg     \n",
            "  inflating: cnn/o3/char0002_1.jpg   \n",
            "  inflating: cnn/o3/char0002.jpg     \n",
            "  inflating: cnn/o3/char0001_1.jpg   \n",
            "  inflating: cnn/o3/char0001.jpg     \n",
            "   creating: cnn/o2/\n",
            "  inflating: cnn/o2/char0048.jpg     \n",
            "  inflating: cnn/o2/char0047.jpg     \n",
            "  inflating: cnn/o2/char0046.jpg     \n",
            "  inflating: cnn/o2/char0045.jpg     \n",
            "  inflating: cnn/o2/char0036.jpg     \n",
            "  inflating: cnn/o2/char0035.jpg     \n",
            "  inflating: cnn/o2/char0034.jpg     \n",
            "  inflating: cnn/o2/char0033.jpg     \n",
            "  inflating: cnn/o2/char0028.jpg     \n",
            "  inflating: cnn/o2/char0027.jpg     \n",
            "  inflating: cnn/o2/char0026.jpg     \n",
            "  inflating: cnn/o2/char0025.jpg     \n",
            "  inflating: cnn/o2/char0020.jpg     \n",
            "  inflating: cnn/o2/char0019.jpg     \n",
            "  inflating: cnn/o2/char0018.jpg     \n",
            "  inflating: cnn/o2/char0017.jpg     \n",
            "  inflating: cnn/o2/char0008.jpg     \n",
            "  inflating: cnn/o2/char0007.jpg     \n",
            "  inflating: cnn/o2/char0006.jpg     \n",
            "  inflating: cnn/o2/char0005.jpg     \n",
            "  inflating: cnn/o2/char0004.jpg     \n",
            "  inflating: cnn/o2/char0003.jpg     \n",
            "  inflating: cnn/o2/char0002.jpg     \n",
            "  inflating: cnn/o2/char0001.jpg     \n",
            "   creating: cnn/o1/\n",
            "  inflating: cnn/o1/char0048.jpg     \n",
            "  inflating: cnn/o1/char0047.jpg     \n",
            "  inflating: cnn/o1/char0046.jpg     \n",
            "  inflating: cnn/o1/char0045.jpg     \n",
            "  inflating: cnn/o1/char0036.jpg     \n",
            "  inflating: cnn/o1/char0035.jpg     \n",
            "  inflating: cnn/o1/char0034.jpg     \n",
            "  inflating: cnn/o1/char0033.jpg     \n",
            "  inflating: cnn/o1/char0028.jpg     \n",
            "  inflating: cnn/o1/char0027.jpg     \n",
            "  inflating: cnn/o1/char0026.jpg     \n",
            "  inflating: cnn/o1/char0025.jpg     \n",
            "  inflating: cnn/o1/char0020.jpg     \n",
            "  inflating: cnn/o1/char0019.jpg     \n",
            "  inflating: cnn/o1/char0018.jpg     \n",
            "  inflating: cnn/o1/char0017.jpg     \n",
            "  inflating: cnn/o1/char0008.jpg     \n",
            "  inflating: cnn/o1/char0007.jpg     \n",
            "  inflating: cnn/o1/char0006.jpg     \n",
            "  inflating: cnn/o1/char0005.jpg     \n",
            "  inflating: cnn/o1/char0004.jpg     \n",
            "  inflating: cnn/o1/char0003.jpg     \n",
            "  inflating: cnn/o1/char0002.jpg     \n",
            "  inflating: cnn/o1/char0001.jpg     \n",
            "   creating: cnn/na/\n",
            "  inflating: cnn/na/char0048.jpg     \n",
            "  inflating: cnn/na/char0047.jpg     \n",
            "  inflating: cnn/na/char0046.jpg     \n",
            "  inflating: cnn/na/char0045.jpg     \n",
            "  inflating: cnn/na/char0036.jpg     \n",
            "  inflating: cnn/na/char0035.jpg     \n",
            "  inflating: cnn/na/char0034.jpg     \n",
            "  inflating: cnn/na/char0033.jpg     \n",
            "  inflating: cnn/na/char0028.jpg     \n",
            "  inflating: cnn/na/char0027.jpg     \n",
            "  inflating: cnn/na/char0026.jpg     \n",
            "  inflating: cnn/na/char0025.jpg     \n",
            "  inflating: cnn/na/char0020.jpg     \n",
            "  inflating: cnn/na/char0019.jpg     \n",
            "  inflating: cnn/na/char0018.jpg     \n",
            "  inflating: cnn/na/char0017.jpg     \n",
            "  inflating: cnn/na/char0008.jpg     \n",
            "  inflating: cnn/na/char0007.jpg     \n",
            "  inflating: cnn/na/char0006.jpg     \n",
            "  inflating: cnn/na/char0005.jpg     \n",
            "  inflating: cnn/na/char0004.jpg     \n",
            "  inflating: cnn/na/char0003.jpg     \n",
            "  inflating: cnn/na/char0002.jpg     \n",
            "  inflating: cnn/na/char0001.jpg     \n",
            "   creating: cnn/ma/\n",
            "  inflating: cnn/ma/char0048.jpg     \n",
            "  inflating: cnn/ma/char0047.jpg     \n",
            "  inflating: cnn/ma/char0046.jpg     \n",
            "  inflating: cnn/ma/char0045.jpg     \n",
            "  inflating: cnn/ma/char0036.jpg     \n",
            "  inflating: cnn/ma/char0035.jpg     \n",
            "  inflating: cnn/ma/char0034.jpg     \n",
            "  inflating: cnn/ma/char0033.jpg     \n",
            "  inflating: cnn/ma/char0028.jpg     \n",
            "  inflating: cnn/ma/char0027.jpg     \n",
            "  inflating: cnn/ma/char0026.jpg     \n",
            "  inflating: cnn/ma/char0025.jpg     \n",
            "  inflating: cnn/ma/char0020.jpg     \n",
            "  inflating: cnn/ma/char0019.jpg     \n",
            "  inflating: cnn/ma/char0018.jpg     \n",
            "  inflating: cnn/ma/char0017.jpg     \n",
            "  inflating: cnn/ma/char0008.jpg     \n",
            "  inflating: cnn/ma/char0007.jpg     \n",
            "  inflating: cnn/ma/char0006.jpg     \n",
            "  inflating: cnn/ma/char0005.jpg     \n",
            "  inflating: cnn/ma/char0004.jpg     \n",
            "  inflating: cnn/ma/char0003.jpg     \n",
            "  inflating: cnn/ma/char0002.jpg     \n",
            "  inflating: cnn/ma/char0001.jpg     \n",
            "   creating: cnn/la2/\n",
            "  inflating: cnn/la2/char0048.jpg    \n",
            "  inflating: cnn/la2/char0047.jpg    \n",
            "  inflating: cnn/la2/char0046.jpg    \n",
            "  inflating: cnn/la2/char0045.jpg    \n",
            "  inflating: cnn/la2/char0036.jpg    \n",
            "  inflating: cnn/la2/char0035.jpg    \n",
            "  inflating: cnn/la2/char0034.jpg    \n",
            "  inflating: cnn/la2/char0033.jpg    \n",
            "  inflating: cnn/la2/char0028.jpg    \n",
            "  inflating: cnn/la2/char0027.jpg    \n",
            "  inflating: cnn/la2/char0026.jpg    \n",
            "  inflating: cnn/la2/char0025.jpg    \n",
            "  inflating: cnn/la2/char0020.jpg    \n",
            "  inflating: cnn/la2/char0019.jpg    \n",
            "  inflating: cnn/la2/char0018.jpg    \n",
            "  inflating: cnn/la2/char0017.jpg    \n",
            "  inflating: cnn/la2/char0008.jpg    \n",
            "  inflating: cnn/la2/char0007.jpg    \n",
            "  inflating: cnn/la2/char0006.jpg    \n",
            "  inflating: cnn/la2/char0005.jpg    \n",
            "  inflating: cnn/la2/char0004.jpg    \n",
            "  inflating: cnn/la2/char0003.jpg    \n",
            "  inflating: cnn/la2/char0002.jpg    \n",
            "  inflating: cnn/la2/char0001.jpg    \n",
            "   creating: cnn/la1/\n",
            "  inflating: cnn/la1/char0048.jpg    \n",
            "  inflating: cnn/la1/char0047.jpg    \n",
            "  inflating: cnn/la1/char0046.jpg    \n",
            "  inflating: cnn/la1/char0045.jpg    \n",
            "  inflating: cnn/la1/char0036.jpg    \n",
            "  inflating: cnn/la1/char0035.jpg    \n",
            "  inflating: cnn/la1/char0034.jpg    \n",
            "  inflating: cnn/la1/char0033.jpg    \n",
            "  inflating: cnn/la1/char0028.jpg    \n",
            "  inflating: cnn/la1/char0027.jpg    \n",
            "  inflating: cnn/la1/char0026.jpg    \n",
            "  inflating: cnn/la1/char0025.jpg    \n",
            "  inflating: cnn/la1/char0020.jpg    \n",
            "  inflating: cnn/la1/char0019.jpg    \n",
            "  inflating: cnn/la1/char0018.jpg    \n",
            "  inflating: cnn/la1/char0017.jpg    \n",
            "  inflating: cnn/la1/char0008.jpg    \n",
            "  inflating: cnn/la1/char0007.jpg    \n",
            "  inflating: cnn/la1/char0006.jpg    \n",
            "  inflating: cnn/la1/char0005.jpg    \n",
            "  inflating: cnn/la1/char0004.jpg    \n",
            "  inflating: cnn/la1/char0003.jpg    \n",
            "  inflating: cnn/la1/char0002.jpg    \n",
            "  inflating: cnn/la1/char0001.jpg    \n",
            "   creating: cnn/ksha/\n",
            "  inflating: cnn/ksha/char0048.jpg   \n",
            "  inflating: cnn/ksha/char0047.jpg   \n",
            "  inflating: cnn/ksha/char0046.jpg   \n",
            "  inflating: cnn/ksha/char0045.jpg   \n",
            "  inflating: cnn/ksha/char0036.jpg   \n",
            "  inflating: cnn/ksha/char0035.jpg   \n",
            "  inflating: cnn/ksha/char0034.jpg   \n",
            "  inflating: cnn/ksha/char0033.jpg   \n",
            "  inflating: cnn/ksha/char0028.jpg   \n",
            "  inflating: cnn/ksha/char0027.jpg   \n",
            "  inflating: cnn/ksha/char0026.jpg   \n",
            "  inflating: cnn/ksha/char0025.jpg   \n",
            "  inflating: cnn/ksha/char0020.jpg   \n",
            "  inflating: cnn/ksha/char0019.jpg   \n",
            "  inflating: cnn/ksha/char0018.jpg   \n",
            "  inflating: cnn/ksha/char0017.jpg   \n",
            "  inflating: cnn/ksha/char0008.jpg   \n",
            "  inflating: cnn/ksha/char0007.jpg   \n",
            "  inflating: cnn/ksha/char0006.jpg   \n",
            "  inflating: cnn/ksha/char0005.jpg   \n",
            "  inflating: cnn/ksha/char0004.jpg   \n",
            "  inflating: cnn/ksha/char0003.jpg   \n",
            "  inflating: cnn/ksha/char0002.jpg   \n",
            "  inflating: cnn/ksha/char0001.jpg   \n",
            "   creating: cnn/ka2/\n",
            "  inflating: cnn/ka2/char0048.jpg    \n",
            "  inflating: cnn/ka2/char0047.jpg    \n",
            "  inflating: cnn/ka2/char0046.jpg    \n",
            "  inflating: cnn/ka2/char0045.jpg    \n",
            "  inflating: cnn/ka2/char0036.jpg    \n",
            "  inflating: cnn/ka2/char0035.jpg    \n",
            "  inflating: cnn/ka2/char0034.jpg    \n",
            "  inflating: cnn/ka2/char0033.jpg    \n",
            "  inflating: cnn/ka2/char0028.jpg    \n",
            "  inflating: cnn/ka2/char0027.jpg    \n",
            "  inflating: cnn/ka2/char0026.jpg    \n",
            "  inflating: cnn/ka2/char0025.jpg    \n",
            "  inflating: cnn/ka2/char0020.jpg    \n",
            "  inflating: cnn/ka2/char0019.jpg    \n",
            "  inflating: cnn/ka2/char0018.jpg    \n",
            "  inflating: cnn/ka2/char0017.jpg    \n",
            "  inflating: cnn/ka2/char0008.jpg    \n",
            "  inflating: cnn/ka2/char0007.jpg    \n",
            "  inflating: cnn/ka2/char0006.jpg    \n",
            "  inflating: cnn/ka2/char0005.jpg    \n",
            "  inflating: cnn/ka2/char0004.jpg    \n",
            "  inflating: cnn/ka2/char0003.jpg    \n",
            "  inflating: cnn/ka2/char0002.jpg    \n",
            "  inflating: cnn/ka2/char0001.jpg    \n",
            "   creating: cnn/ka1/\n",
            "  inflating: cnn/ka1/char0048.jpg    \n",
            "  inflating: cnn/ka1/char0047.jpg    \n",
            "  inflating: cnn/ka1/char0046.jpg    \n",
            "  inflating: cnn/ka1/char0045.jpg    \n",
            "  inflating: cnn/ka1/char0036.jpg    \n",
            "  inflating: cnn/ka1/char0035.jpg    \n",
            "  inflating: cnn/ka1/char0034.jpg    \n",
            "  inflating: cnn/ka1/char0033.jpg    \n",
            "  inflating: cnn/ka1/char0028.jpg    \n",
            "  inflating: cnn/ka1/char0027.jpg    \n",
            "  inflating: cnn/ka1/char0026.jpg    \n",
            "  inflating: cnn/ka1/char0025.jpg    \n",
            "  inflating: cnn/ka1/char0020.jpg    \n",
            "  inflating: cnn/ka1/char0019.jpg    \n",
            "  inflating: cnn/ka1/char0018.jpg    \n",
            "  inflating: cnn/ka1/char0017.jpg    \n",
            "  inflating: cnn/ka1/char0008.jpg    \n",
            "  inflating: cnn/ka1/char0007.jpg    \n",
            "  inflating: cnn/ka1/char0006.jpg    \n",
            "  inflating: cnn/ka1/char0005.jpg    \n",
            "  inflating: cnn/ka1/char0004.jpg    \n",
            "  inflating: cnn/ka1/char0003.jpg    \n",
            "  inflating: cnn/ka1/char0002.jpg    \n",
            "  inflating: cnn/ka1/char0001.jpg    \n",
            "   creating: cnn/ja2/\n",
            "  inflating: cnn/ja2/char0048.jpg    \n",
            "  inflating: cnn/ja2/char0047.jpg    \n",
            "  inflating: cnn/ja2/char0046.jpg    \n",
            "  inflating: cnn/ja2/char0045.jpg    \n",
            "  inflating: cnn/ja2/char0036.jpg    \n",
            "  inflating: cnn/ja2/char0035.jpg    \n",
            "  inflating: cnn/ja2/char0034.jpg    \n",
            "  inflating: cnn/ja2/char0033.jpg    \n",
            "  inflating: cnn/ja2/char0028.jpg    \n",
            "  inflating: cnn/ja2/char0027.jpg    \n",
            "  inflating: cnn/ja2/char0026.jpg    \n",
            "  inflating: cnn/ja2/char0025.jpg    \n",
            "  inflating: cnn/ja2/char0020.jpg    \n",
            "  inflating: cnn/ja2/char0019.jpg    \n",
            "  inflating: cnn/ja2/char0018.jpg    \n",
            "  inflating: cnn/ja2/char0017.jpg    \n",
            "  inflating: cnn/ja2/char0008.jpg    \n",
            "  inflating: cnn/ja2/char0007.jpg    \n",
            "  inflating: cnn/ja2/char0006.jpg    \n",
            "  inflating: cnn/ja2/char0005.jpg    \n",
            "  inflating: cnn/ja2/char0004.jpg    \n",
            "  inflating: cnn/ja2/char0003.jpg    \n",
            "  inflating: cnn/ja2/char0002.jpg    \n",
            "  inflating: cnn/ja2/char0001.jpg    \n",
            "   creating: cnn/ja1/\n",
            "  inflating: cnn/ja1/char0048.jpg    \n",
            "  inflating: cnn/ja1/char0047.jpg    \n",
            "  inflating: cnn/ja1/char0046.jpg    \n",
            "  inflating: cnn/ja1/char0045.jpg    \n",
            "  inflating: cnn/ja1/char0036.jpg    \n",
            "  inflating: cnn/ja1/char0035.jpg    \n",
            "  inflating: cnn/ja1/char0034.jpg    \n",
            "  inflating: cnn/ja1/char0033.jpg    \n",
            "  inflating: cnn/ja1/char0028.jpg    \n",
            "  inflating: cnn/ja1/char0027.jpg    \n",
            "  inflating: cnn/ja1/char0026.jpg    \n",
            "  inflating: cnn/ja1/char0025.jpg    \n",
            "  inflating: cnn/ja1/char0020.jpg    \n",
            "  inflating: cnn/ja1/char0019.jpg    \n",
            "  inflating: cnn/ja1/char0018.jpg    \n",
            "  inflating: cnn/ja1/char0017.jpg    \n",
            "  inflating: cnn/ja1/char0008.jpg    \n",
            "  inflating: cnn/ja1/char0007.jpg    \n",
            "  inflating: cnn/ja1/char0006.jpg    \n",
            "  inflating: cnn/ja1/char0005.jpg    \n",
            "  inflating: cnn/ja1/char0004.jpg    \n",
            "  inflating: cnn/ja1/char0003.jpg    \n",
            "  inflating: cnn/ja1/char0002.jpg    \n",
            "  inflating: cnn/ja1/char0001.jpg    \n",
            "   creating: cnn/i/\n",
            "  inflating: cnn/i/char0048.jpg      \n",
            "  inflating: cnn/i/char0047.jpg      \n",
            "  inflating: cnn/i/char0046.jpg      \n",
            "  inflating: cnn/i/char0045.jpg      \n",
            "  inflating: cnn/i/char0036.jpg      \n",
            "  inflating: cnn/i/char0035.jpg      \n",
            "  inflating: cnn/i/char0034.jpg      \n",
            "  inflating: cnn/i/char0033.jpg      \n",
            "  inflating: cnn/i/char0028.jpg      \n",
            "  inflating: cnn/i/char0027.jpg      \n",
            "  inflating: cnn/i/char0026.jpg      \n",
            "  inflating: cnn/i/char0025.jpg      \n",
            "  inflating: cnn/i/char0020.jpg      \n",
            "  inflating: cnn/i/char0019.jpg      \n",
            "  inflating: cnn/i/char0018.jpg      \n",
            "  inflating: cnn/i/char0017.jpg      \n",
            "  inflating: cnn/i/char0008.jpg      \n",
            "  inflating: cnn/i/char0007.jpg      \n",
            "  inflating: cnn/i/char0006.jpg      \n",
            "  inflating: cnn/i/char0005.jpg      \n",
            "  inflating: cnn/i/char0004.jpg      \n",
            "  inflating: cnn/i/char0003.jpg      \n",
            "  inflating: cnn/i/char0002.jpg      \n",
            "  inflating: cnn/i/char0001.jpg      \n",
            "   creating: cnn/ha/\n",
            "  inflating: cnn/ha/char0048.jpg     \n",
            "  inflating: cnn/ha/char0047.jpg     \n",
            "  inflating: cnn/ha/char0046.jpg     \n",
            "  inflating: cnn/ha/char0045.jpg     \n",
            "  inflating: cnn/ha/char0036.jpg     \n",
            "  inflating: cnn/ha/char0035.jpg     \n",
            "  inflating: cnn/ha/char0034.jpg     \n",
            "  inflating: cnn/ha/char0033.jpg     \n",
            "  inflating: cnn/ha/char0028.jpg     \n",
            "  inflating: cnn/ha/char0027.jpg     \n",
            "  inflating: cnn/ha/char0026.jpg     \n",
            "  inflating: cnn/ha/char0025.jpg     \n",
            "  inflating: cnn/ha/char0020.jpg     \n",
            "  inflating: cnn/ha/char0019.jpg     \n",
            "  inflating: cnn/ha/char0018.jpg     \n",
            "  inflating: cnn/ha/char0017.jpg     \n",
            "  inflating: cnn/ha/char0008.jpg     \n",
            "  inflating: cnn/ha/char0007.jpg     \n",
            "  inflating: cnn/ha/char0006.jpg     \n",
            "  inflating: cnn/ha/char0005.jpg     \n",
            "  inflating: cnn/ha/char0004.jpg     \n",
            "  inflating: cnn/ha/char0003.jpg     \n",
            "  inflating: cnn/ha/char0002.jpg     \n",
            "  inflating: cnn/ha/char0001.jpg     \n",
            "   creating: cnn/ga2/\n",
            "  inflating: cnn/ga2/char0048.jpg    \n",
            "  inflating: cnn/ga2/char0047.jpg    \n",
            "  inflating: cnn/ga2/char0046.jpg    \n",
            "  inflating: cnn/ga2/char0045.jpg    \n",
            "  inflating: cnn/ga2/char0036.jpg    \n",
            "  inflating: cnn/ga2/char0035.jpg    \n",
            "  inflating: cnn/ga2/char0034.jpg    \n",
            "  inflating: cnn/ga2/char0033.jpg    \n",
            "  inflating: cnn/ga2/char0028.jpg    \n",
            "  inflating: cnn/ga2/char0027.jpg    \n",
            "  inflating: cnn/ga2/char0026.jpg    \n",
            "  inflating: cnn/ga2/char0025.jpg    \n",
            "  inflating: cnn/ga2/char0020.jpg    \n",
            "  inflating: cnn/ga2/char0019.jpg    \n",
            "  inflating: cnn/ga2/char0018.jpg    \n",
            "  inflating: cnn/ga2/char0017.jpg    \n",
            "  inflating: cnn/ga2/char0008.jpg    \n",
            "  inflating: cnn/ga2/char0007.jpg    \n",
            "  inflating: cnn/ga2/char0006.jpg    \n",
            "  inflating: cnn/ga2/char0005.jpg    \n",
            "  inflating: cnn/ga2/char0004.jpg    \n",
            "  inflating: cnn/ga2/char0003.jpg    \n",
            "  inflating: cnn/ga2/char0002.jpg    \n",
            "  inflating: cnn/ga2/char0001.jpg    \n",
            "   creating: cnn/ga1/\n",
            "  inflating: cnn/ga1/char0048.jpg    \n",
            "  inflating: cnn/ga1/char0047.jpg    \n",
            "  inflating: cnn/ga1/char0046.jpg    \n",
            "  inflating: cnn/ga1/char0045.jpg    \n",
            "  inflating: cnn/ga1/char0036.jpg    \n",
            "  inflating: cnn/ga1/char0035.jpg    \n",
            "  inflating: cnn/ga1/char0034.jpg    \n",
            "  inflating: cnn/ga1/char0033.jpg    \n",
            "  inflating: cnn/ga1/char0028.jpg    \n",
            "  inflating: cnn/ga1/char0027.jpg    \n",
            "  inflating: cnn/ga1/char0026.jpg    \n",
            "  inflating: cnn/ga1/char0025.jpg    \n",
            "  inflating: cnn/ga1/char0020.jpg    \n",
            "  inflating: cnn/ga1/char0019.jpg    \n",
            "  inflating: cnn/ga1/char0018.jpg    \n",
            "  inflating: cnn/ga1/char0017.jpg    \n",
            "  inflating: cnn/ga1/char0008.jpg    \n",
            "  inflating: cnn/ga1/char0007.jpg    \n",
            "  inflating: cnn/ga1/char0006.jpg    \n",
            "  inflating: cnn/ga1/char0005.jpg    \n",
            "  inflating: cnn/ga1/char0004.jpg    \n",
            "  inflating: cnn/ga1/char0003.jpg    \n",
            "  inflating: cnn/ga1/char0002.jpg    \n",
            "  inflating: cnn/ga1/char0001.jpg    \n",
            "   creating: cnn/e2/\n",
            "  inflating: cnn/e2/char0048.jpg     \n",
            "  inflating: cnn/e2/char0047.jpg     \n",
            "  inflating: cnn/e2/char0046.jpg     \n",
            "  inflating: cnn/e2/char0045.jpg     \n",
            "  inflating: cnn/e2/char0036.jpg     \n",
            "  inflating: cnn/e2/char0035.jpg     \n",
            "  inflating: cnn/e2/char0034.jpg     \n",
            "  inflating: cnn/e2/char0033.jpg     \n",
            "  inflating: cnn/e2/char0028.jpg     \n",
            "  inflating: cnn/e2/char0027.jpg     \n",
            "  inflating: cnn/e2/char0026.jpg     \n",
            "  inflating: cnn/e2/char0025.jpg     \n",
            "  inflating: cnn/e2/char0020.jpg     \n",
            "  inflating: cnn/e2/char0019.jpg     \n",
            "  inflating: cnn/e2/char0018.jpg     \n",
            "  inflating: cnn/e2/char0017.jpg     \n",
            "  inflating: cnn/e2/char0008.jpg     \n",
            "  inflating: cnn/e2/char0007.jpg     \n",
            "  inflating: cnn/e2/char0006.jpg     \n",
            "  inflating: cnn/e2/char0005.jpg     \n",
            "  inflating: cnn/e2/char0004.jpg     \n",
            "  inflating: cnn/e2/char0003.jpg     \n",
            "  inflating: cnn/e2/char0002.jpg     \n",
            "  inflating: cnn/e2/char0001.jpg     \n",
            "   creating: cnn/e1/\n",
            "  inflating: cnn/e1/char0048.jpg     \n",
            "  inflating: cnn/e1/char0047.jpg     \n",
            "  inflating: cnn/e1/char0046.jpg     \n",
            "  inflating: cnn/e1/char0045.jpg     \n",
            "  inflating: cnn/e1/char0036.jpg     \n",
            "  inflating: cnn/e1/char0035.jpg     \n",
            "  inflating: cnn/e1/char0034.jpg     \n",
            "  inflating: cnn/e1/char0033.jpg     \n",
            "  inflating: cnn/e1/char0028.jpg     \n",
            "  inflating: cnn/e1/char0027.jpg     \n",
            "  inflating: cnn/e1/char0026.jpg     \n",
            "  inflating: cnn/e1/char0025.jpg     \n",
            "  inflating: cnn/e1/char0020.jpg     \n",
            "  inflating: cnn/e1/char0019.jpg     \n",
            "  inflating: cnn/e1/char0018.jpg     \n",
            "  inflating: cnn/e1/char0017.jpg     \n",
            "  inflating: cnn/e1/char0008.jpg     \n",
            "  inflating: cnn/e1/char0007.jpg     \n",
            "  inflating: cnn/e1/char0006.jpg     \n",
            "  inflating: cnn/e1/char0005.jpg     \n",
            "  inflating: cnn/e1/char0004.jpg     \n",
            "  inflating: cnn/e1/char0003.jpg     \n",
            "  inflating: cnn/e1/char0002.jpg     \n",
            "  inflating: cnn/e1/char0001.jpg     \n",
            "   creating: cnn/dha2/\n",
            "  inflating: cnn/dha2/char0048.jpg   \n",
            "  inflating: cnn/dha2/char0047.jpg   \n",
            "  inflating: cnn/dha2/char0046.jpg   \n",
            "  inflating: cnn/dha2/char0045.jpg   \n",
            "  inflating: cnn/dha2/char0036.jpg   \n",
            "  inflating: cnn/dha2/char0035.jpg   \n",
            "  inflating: cnn/dha2/char0034.jpg   \n",
            "  inflating: cnn/dha2/char0033.jpg   \n",
            "  inflating: cnn/dha2/char0028.jpg   \n",
            "  inflating: cnn/dha2/char0027.jpg   \n",
            "  inflating: cnn/dha2/char0026.jpg   \n",
            "  inflating: cnn/dha2/char0025.jpg   \n",
            "  inflating: cnn/dha2/char0020.jpg   \n",
            "  inflating: cnn/dha2/char0019.jpg   \n",
            "  inflating: cnn/dha2/char0018.jpg   \n",
            "  inflating: cnn/dha2/char0017.jpg   \n",
            "  inflating: cnn/dha2/char0008.jpg   \n",
            "  inflating: cnn/dha2/char0007.jpg   \n",
            "  inflating: cnn/dha2/char0006.jpg   \n",
            "  inflating: cnn/dha2/char0005.jpg   \n",
            "  inflating: cnn/dha2/char0004.jpg   \n",
            "  inflating: cnn/dha2/char0003.jpg   \n",
            "  inflating: cnn/dha2/char0002.jpg   \n",
            "  inflating: cnn/dha2/char0001.jpg   \n",
            "   creating: cnn/dha1/\n",
            "  inflating: cnn/dha1/char0048.jpg   \n",
            "  inflating: cnn/dha1/char0047.jpg   \n",
            "  inflating: cnn/dha1/char0046.jpg   \n",
            "  inflating: cnn/dha1/char0045.jpg   \n",
            "  inflating: cnn/dha1/char0036.jpg   \n",
            "  inflating: cnn/dha1/char0035.jpg   \n",
            "  inflating: cnn/dha1/char0034.jpg   \n",
            "  inflating: cnn/dha1/char0033.jpg   \n",
            "  inflating: cnn/dha1/char0028.jpg   \n",
            "  inflating: cnn/dha1/char0027.jpg   \n",
            "  inflating: cnn/dha1/char0026.jpg   \n",
            "  inflating: cnn/dha1/char0025.jpg   \n",
            "  inflating: cnn/dha1/char0020.jpg   \n",
            "  inflating: cnn/dha1/char0019.jpg   \n",
            "  inflating: cnn/dha1/char0018.jpg   \n",
            "  inflating: cnn/dha1/char0017.jpg   \n",
            "  inflating: cnn/dha1/char0008.jpg   \n",
            "  inflating: cnn/dha1/char0007.jpg   \n",
            "  inflating: cnn/dha1/char0006.jpg   \n",
            "  inflating: cnn/dha1/char0005.jpg   \n",
            "  inflating: cnn/dha1/char0004.jpg   \n",
            "  inflating: cnn/dha1/char0003.jpg   \n",
            "  inflating: cnn/dha1/char0002.jpg   \n",
            "  inflating: cnn/dha1/char0001.jpg   \n",
            "   creating: cnn/da2/\n",
            "  inflating: cnn/da2/char0048.jpg    \n",
            "  inflating: cnn/da2/char0047.jpg    \n",
            "  inflating: cnn/da2/char0046.jpg    \n",
            "  inflating: cnn/da2/char0045.jpg    \n",
            "  inflating: cnn/da2/char0036.jpg    \n",
            "  inflating: cnn/da2/char0035.jpg    \n",
            "  inflating: cnn/da2/char0034.jpg    \n",
            "  inflating: cnn/da2/char0033.jpg    \n",
            "  inflating: cnn/da2/char0028.jpg    \n",
            "  inflating: cnn/da2/char0027.jpg    \n",
            "  inflating: cnn/da2/char0026.jpg    \n",
            "  inflating: cnn/da2/char0025.jpg    \n",
            "  inflating: cnn/da2/char0020.jpg    \n",
            "  inflating: cnn/da2/char0019.jpg    \n",
            "  inflating: cnn/da2/char0018.jpg    \n",
            "  inflating: cnn/da2/char0017.jpg    \n",
            "  inflating: cnn/da2/char0008.jpg    \n",
            "  inflating: cnn/da2/char0007.jpg    \n",
            "  inflating: cnn/da2/char0006.jpg    \n",
            "  inflating: cnn/da2/char0005.jpg    \n",
            "  inflating: cnn/da2/char0004.jpg    \n",
            "  inflating: cnn/da2/char0003.jpg    \n",
            "  inflating: cnn/da2/char0002.jpg    \n",
            "  inflating: cnn/da2/char0001.jpg    \n",
            "   creating: cnn/da1/\n",
            "  inflating: cnn/da1/char0048.jpg    \n",
            "  inflating: cnn/da1/char0047.jpg    \n",
            "  inflating: cnn/da1/char0046.jpg    \n",
            "  inflating: cnn/da1/char0045.jpg    \n",
            "  inflating: cnn/da1/char0036.jpg    \n",
            "  inflating: cnn/da1/char0035.jpg    \n",
            "  inflating: cnn/da1/char0034.jpg    \n",
            "  inflating: cnn/da1/char0033.jpg    \n",
            "  inflating: cnn/da1/char0028.jpg    \n",
            "  inflating: cnn/da1/char0027.jpg    \n",
            "  inflating: cnn/da1/char0026.jpg    \n",
            "  inflating: cnn/da1/char0025.jpg    \n",
            "  inflating: cnn/da1/char0020.jpg    \n",
            "  inflating: cnn/da1/char0019.jpg    \n",
            "  inflating: cnn/da1/char0018.jpg    \n",
            "  inflating: cnn/da1/char0017.jpg    \n",
            "  inflating: cnn/da1/char0008.jpg    \n",
            "  inflating: cnn/da1/char0007.jpg    \n",
            "  inflating: cnn/da1/char0006.jpg    \n",
            "  inflating: cnn/da1/char0005.jpg    \n",
            "  inflating: cnn/da1/char0004.jpg    \n",
            "  inflating: cnn/da1/char0003.jpg    \n",
            "  inflating: cnn/da1/char0002.jpg    \n",
            "  inflating: cnn/da1/char0001.jpg    \n",
            "   creating: cnn/cha2/\n",
            "  inflating: cnn/cha2/char0048.jpg   \n",
            "  inflating: cnn/cha2/char0047.jpg   \n",
            "  inflating: cnn/cha2/char0046.jpg   \n",
            "  inflating: cnn/cha2/char0045.jpg   \n",
            "  inflating: cnn/cha2/char0036.jpg   \n",
            "  inflating: cnn/cha2/char0035.jpg   \n",
            "  inflating: cnn/cha2/char0034.jpg   \n",
            "  inflating: cnn/cha2/char0033.jpg   \n",
            "  inflating: cnn/cha2/char0028.jpg   \n",
            "  inflating: cnn/cha2/char0027.jpg   \n",
            "  inflating: cnn/cha2/char0026.jpg   \n",
            "  inflating: cnn/cha2/char0025.jpg   \n",
            "  inflating: cnn/cha2/char0020.jpg   \n",
            "  inflating: cnn/cha2/char0019.jpg   \n",
            "  inflating: cnn/cha2/char0018.jpg   \n",
            "  inflating: cnn/cha2/char0017.jpg   \n",
            "  inflating: cnn/cha2/char0008.jpg   \n",
            "  inflating: cnn/cha2/char0007.jpg   \n",
            "  inflating: cnn/cha2/char0006.jpg   \n",
            "  inflating: cnn/cha2/char0005.jpg   \n",
            "  inflating: cnn/cha2/char0004.jpg   \n",
            "  inflating: cnn/cha2/char0003.jpg   \n",
            "  inflating: cnn/cha2/char0002.jpg   \n",
            "  inflating: cnn/cha2/char0001.jpg   \n",
            "   creating: cnn/ba2/\n",
            "  inflating: cnn/ba2/char0048.jpg    \n",
            "  inflating: cnn/ba2/char0047.jpg    \n",
            "  inflating: cnn/ba2/char0046.jpg    \n",
            "  inflating: cnn/ba2/char0045.jpg    \n",
            "  inflating: cnn/ba2/char0036.jpg    \n",
            "  inflating: cnn/ba2/char0035.jpg    \n",
            "  inflating: cnn/ba2/char0034.jpg    \n",
            "  inflating: cnn/ba2/char0033.jpg    \n",
            "  inflating: cnn/ba2/char0028.jpg    \n",
            "  inflating: cnn/ba2/char0027.jpg    \n",
            "  inflating: cnn/ba2/char0026.jpg    \n",
            "  inflating: cnn/ba2/char0025.jpg    \n",
            "  inflating: cnn/ba2/char0020.jpg    \n",
            "  inflating: cnn/ba2/char0019.jpg    \n",
            "  inflating: cnn/ba2/char0018.jpg    \n",
            "  inflating: cnn/ba2/char0017.jpg    \n",
            "  inflating: cnn/ba2/char0008.jpg    \n",
            "  inflating: cnn/ba2/char0007.jpg    \n",
            "  inflating: cnn/ba2/char0006.jpg    \n",
            "  inflating: cnn/ba2/char0005.jpg    \n",
            "  inflating: cnn/ba2/char0004.jpg    \n",
            "  inflating: cnn/ba2/char0003.jpg    \n",
            "  inflating: cnn/ba2/char0002.jpg    \n",
            "  inflating: cnn/ba2/char0001.jpg    \n"
          ],
          "name": "stdout"
        }
      ]
    },
    {
      "cell_type": "code",
      "metadata": {
        "id": "hHES4nKsEby2",
        "colab_type": "code",
        "outputId": "96bba1f6-71f9-48eb-905d-048efe96d12e",
        "colab": {
          "base_uri": "https://localhost:8080/",
          "height": 364
        }
      },
      "source": [
        "!unzip \"/content/drive/My Drive/test.zip\""
      ],
      "execution_count": 4,
      "outputs": [
        {
          "output_type": "stream",
          "text": [
            "Archive:  /content/drive/My Drive/test.zip\n",
            "   creating: test/\n",
            "   creating: test/Img/\n",
            "  inflating: test/Img/char0004.jpg   \n",
            "  inflating: test/Img/char0035.jpg   \n",
            "  inflating: test/Img/char0048.jpg   \n",
            "  inflating: test/Img/char0047.jpg   \n",
            "  inflating: test/Img/char0006.jpg   \n",
            "  inflating: test/Img/char0017.jpg   \n",
            "  inflating: test/Img/char0045.jpg   \n",
            "  inflating: test/Img/char0025.jpg   \n",
            "  inflating: test/Img/char0018.jpg   \n",
            "  inflating: test/Img/char0019.jpg   \n",
            "  inflating: test/Img/char0020.jpg   \n",
            "  inflating: test/Img/char0026.jpg   \n",
            "  inflating: test/Img/char0001.jpg   \n",
            "  inflating: test/Img/char0034.jpg   \n",
            "  inflating: test/Img/char0033.jpg   \n",
            "  inflating: test/Img/char0002.jpg   \n",
            "  inflating: test/Img/char0008.jpg   \n"
          ],
          "name": "stdout"
        }
      ]
    },
    {
      "cell_type": "code",
      "metadata": {
        "id": "DBZOGFhW8Qkv",
        "colab_type": "code",
        "outputId": "33df3a5f-4ef1-4367-adef-71e1f52b1149",
        "colab": {
          "base_uri": "https://localhost:8080/",
          "height": 34
        }
      },
      "source": [
        "data_dir =\"/content/cnn\"\n",
        "data_dir = pathlib.Path(data_dir)\n",
        "test_dir=\"/content/test\"\n",
        "print(data_dir)"
      ],
      "execution_count": 5,
      "outputs": [
        {
          "output_type": "stream",
          "text": [
            "/content/cnn\n"
          ],
          "name": "stdout"
        }
      ]
    },
    {
      "cell_type": "code",
      "metadata": {
        "id": "qlpBTEw09qx-",
        "colab_type": "code",
        "outputId": "a41c113a-6722-48e7-e319-51c92306af49",
        "colab": {
          "base_uri": "https://localhost:8080/",
          "height": 34
        }
      },
      "source": [
        "img_count=len(list(data_dir.glob('*/*')))\n",
        "print(img_count)\n",
        "#glob('*') gives the no of images in folders \n",
        "#glog('*/*') gives images count in all folders."
      ],
      "execution_count": 6,
      "outputs": [
        {
          "output_type": "stream",
          "text": [
            "1080\n"
          ],
          "name": "stdout"
        }
      ]
    },
    {
      "cell_type": "code",
      "metadata": {
        "id": "oBG8eEdF-GFa",
        "colab_type": "code",
        "colab": {}
      },
      "source": [
        "class_names=np.array([item.name for item in data_dir.glob('*') if item.name != \"LICENSE.txt\"])"
      ],
      "execution_count": 0,
      "outputs": []
    },
    {
      "cell_type": "code",
      "metadata": {
        "id": "7u-MqSW9CLON",
        "colab_type": "code",
        "outputId": "510515e8-deea-4a2e-f921-44918eb27f58",
        "colab": {
          "base_uri": "https://localhost:8080/",
          "height": 104
        }
      },
      "source": [
        "print(class_names)\n",
        "print (len(class_names))"
      ],
      "execution_count": 8,
      "outputs": [
        {
          "output_type": "stream",
          "text": [
            "['o3' 'sa2' 'tha1' 'ra1' 'la2' 'da1' 'i' 'la1' 'ka1' 'e1' 'e2' 'ba2' 'ta1'\n",
            " 'ru' 'dha1' 'va' 'ga2' 'ana' 'cha2' 'a1' 'ja2' 'o1' 'u2' 'na' 'ga1' 'ma'\n",
            " 'sa1' 'sa3' 'um' 'ya' 'ksha' 'da2' 'pa2' 'o2' 'a2' 'ba1' 'dha2' 'ha'\n",
            " 'ja1' 'ra2' 'ka2' 'pa1' 'u1']\n",
            "43\n"
          ],
          "name": "stdout"
        }
      ]
    },
    {
      "cell_type": "code",
      "metadata": {
        "id": "HZbsSOEPCR2k",
        "colab_type": "code",
        "colab": {}
      },
      "source": [
        "aaa=list(data_dir.glob('a1/*'))"
      ],
      "execution_count": 0,
      "outputs": []
    },
    {
      "cell_type": "code",
      "metadata": {
        "id": "tLSvZeskEN9C",
        "colab_type": "code",
        "outputId": "36ed8934-a449-4c5e-8216-bfbb2109bb18",
        "colab": {
          "base_uri": "https://localhost:8080/",
          "height": 54
        }
      },
      "source": [
        "print(aaa)"
      ],
      "execution_count": 10,
      "outputs": [
        {
          "output_type": "stream",
          "text": [
            "[PosixPath('/content/cnn/a1/char0046.jpg'), PosixPath('/content/cnn/a1/char0033.jpg'), PosixPath('/content/cnn/a1/char0005.jpg'), PosixPath('/content/cnn/a1/char0027.jpg'), PosixPath('/content/cnn/a1/char0007.jpg'), PosixPath('/content/cnn/a1/char0019.jpg'), PosixPath('/content/cnn/a1/char0002.jpg'), PosixPath('/content/cnn/a1/char0035.jpg'), PosixPath('/content/cnn/a1/char0026.jpg'), PosixPath('/content/cnn/a1/char0020.jpg'), PosixPath('/content/cnn/a1/char0047.jpg'), PosixPath('/content/cnn/a1/char0001.jpg'), PosixPath('/content/cnn/a1/char0034.jpg'), PosixPath('/content/cnn/a1/char0028.jpg'), PosixPath('/content/cnn/a1/char0004.jpg'), PosixPath('/content/cnn/a1/char0045.jpg'), PosixPath('/content/cnn/a1/char0003.jpg'), PosixPath('/content/cnn/a1/char0048.jpg'), PosixPath('/content/cnn/a1/char0036.jpg'), PosixPath('/content/cnn/a1/char0025.jpg'), PosixPath('/content/cnn/a1/char0018.jpg'), PosixPath('/content/cnn/a1/char0008.jpg'), PosixPath('/content/cnn/a1/char0017.jpg'), PosixPath('/content/cnn/a1/char0006.jpg')]\n"
          ],
          "name": "stdout"
        }
      ]
    },
    {
      "cell_type": "code",
      "metadata": {
        "id": "doJDLQ23EUGA",
        "colab_type": "code",
        "outputId": "cc92b20a-51e3-44ea-e525-05d6aa8c87c0",
        "colab": {
          "base_uri": "https://localhost:8080/",
          "height": 785
        }
      },
      "source": [
        "for img_path in aaa:\n",
        "  display.display(Image.open(str(img_path)))"
      ],
      "execution_count": 11,
      "outputs": [
        {
          "output_type": "display_data",
          "data": {
            "image/png": "[encoded data removed]",
            "text/plain": [
              "<PIL.JpegImagePlugin.JpegImageFile image mode=L size=32x32 at 0x7FC5071BB940>"
            ]
          },
          "metadata": {
            "tags": []
          }
        },
        {
          "output_type": "display_data",
          "data": {
            "image/png": "[encoded data removed]",
            "text/plain": [
              "<PIL.JpegImagePlugin.JpegImageFile image mode=L size=32x32 at 0x7FC5071BB940>"
            ]
          },
          "metadata": {
            "tags": []
          }
        },
        {
          "output_type": "display_data",
          "data": {
            "image/png": "[encoded data removed]",
            "text/plain": [
              "<PIL.JpegImagePlugin.JpegImageFile image mode=L size=32x32 at 0x7FC5071BB908>"
            ]
          },
          "metadata": {
            "tags": []
          }
        },
        {
          "output_type": "display_data",
          "data": {
            "image/png": "[encoded data removed]",
            "text/plain": [
              "<PIL.JpegImagePlugin.JpegImageFile image mode=L size=32x32 at 0x7FC5071BB9B0>"
            ]
          },
          "metadata": {
            "tags": []
          }
        },
        {
          "output_type": "display_data",
          "data": {
            "image/png": "[encoded data removed]",
            "text/plain": [
              "<PIL.JpegImagePlugin.JpegImageFile image mode=L size=32x32 at 0x7FC4C443DCF8>"
            ]
          },
          "metadata": {
            "tags": []
          }
        },
        {
          "output_type": "display_data",
          "data": {
            "image/png": "[encoded data removed]",
            "text/plain": [
              "<PIL.JpegImagePlugin.JpegImageFile image mode=L size=32x32 at 0x7FC4C443DCF8>"
            ]
          },
          "metadata": {
            "tags": []
          }
        },
        {
          "output_type": "display_data",
          "data": {
            "image/png": "[encoded data removed]",
            "text/plain": [
              "<PIL.JpegImagePlugin.JpegImageFile image mode=L size=32x32 at 0x7FC4C443DF98>"
            ]
          },
          "metadata": {
            "tags": []
          }
        },
        {
          "output_type": "display_data",
          "data": {
            "image/png": "[encoded data removed]",
            "text/plain": [
              "<PIL.JpegImagePlugin.JpegImageFile image mode=L size=32x32 at 0x7FC4C443DF98>"
            ]
          },
          "metadata": {
            "tags": []
          }
        },
        {
          "output_type": "display_data",
          "data": {
            "image/png": "[encoded data removed]",
            "text/plain": [
              "<PIL.JpegImagePlugin.JpegImageFile image mode=L size=32x32 at 0x7FC4C443DD30>"
            ]
          },
          "metadata": {
            "tags": []
          }
        },
        {
          "output_type": "display_data",
          "data": {
            "image/png": "[encoded data removed]",
            "text/plain": [
              "<PIL.JpegImagePlugin.JpegImageFile image mode=L size=32x32 at 0x7FC4C4447F60>"
            ]
          },
          "metadata": {
            "tags": []
          }
        },
        {
          "output_type": "display_data",
          "data": {
            "image/png": "[encoded data removed]",
            "text/plain": [
              "<PIL.JpegImagePlugin.JpegImageFile image mode=L size=32x32 at 0x7FC4C4447E48>"
            ]
          },
          "metadata": {
            "tags": []
          }
        },
        {
          "output_type": "display_data",
          "data": {
            "image/png": "[encoded data removed]",
            "text/plain": [
              "<PIL.JpegImagePlugin.JpegImageFile image mode=L size=32x32 at 0x7FC4C4447E48>"
            ]
          },
          "metadata": {
            "tags": []
          }
        },
        {
          "output_type": "display_data",
          "data": {
            "image/png": "[encoded data removed]",
            "text/plain": [
              "<PIL.JpegImagePlugin.JpegImageFile image mode=L size=32x32 at 0x7FC4C4447F98>"
            ]
          },
          "metadata": {
            "tags": []
          }
        },
        {
          "output_type": "display_data",
          "data": {
            "image/png": "[encoded data removed]",
            "text/plain": [
              "<PIL.JpegImagePlugin.JpegImageFile image mode=L size=32x32 at 0x7FC4C4447F98>"
            ]
          },
          "metadata": {
            "tags": []
          }
        },
        {
          "output_type": "display_data",
          "data": {
            "image/png": "[encoded data removed]",
            "text/plain": [
              "<PIL.JpegImagePlugin.JpegImageFile image mode=L size=32x32 at 0x7FC4C4447FD0>"
            ]
          },
          "metadata": {
            "tags": []
          }
        },
        {
          "output_type": "display_data",
          "data": {
            "image/png": "[encoded data removed]",
            "text/plain": [
              "<PIL.JpegImagePlugin.JpegImageFile image mode=L size=32x32 at 0x7FC4C4447FD0>"
            ]
          },
          "metadata": {
            "tags": []
          }
        },
        {
          "output_type": "display_data",
          "data": {
            "image/png": "[encoded data removed]",
            "text/plain": [
              "<PIL.JpegImagePlugin.JpegImageFile image mode=L size=32x32 at 0x7FC4C4447F28>"
            ]
          },
          "metadata": {
            "tags": []
          }
        },
        {
          "output_type": "display_data",
          "data": {
            "image/png": "[encoded data removed]",
            "text/plain": [
              "<PIL.JpegImagePlugin.JpegImageFile image mode=L size=32x32 at 0x7FC4C4447F28>"
            ]
          },
          "metadata": {
            "tags": []
          }
        },
        {
          "output_type": "display_data",
          "data": {
            "image/png": "[encoded data removed]",
            "text/plain": [
              "<PIL.JpegImagePlugin.JpegImageFile image mode=L size=32x32 at 0x7FC4C4447EF0>"
            ]
          },
          "metadata": {
            "tags": []
          }
        },
        {
          "output_type": "display_data",
          "data": {
            "image/png": "[encoded data removed]",
            "text/plain": [
              "<PIL.JpegImagePlugin.JpegImageFile image mode=L size=32x32 at 0x7FC4C4447EF0>"
            ]
          },
          "metadata": {
            "tags": []
          }
        },
        {
          "output_type": "display_data",
          "data": {
            "image/png": "[encoded data removed]",
            "text/plain": [
              "<PIL.JpegImagePlugin.JpegImageFile image mode=L size=32x32 at 0x7FC4C4447F60>"
            ]
          },
          "metadata": {
            "tags": []
          }
        },
        {
          "output_type": "display_data",
          "data": {
            "image/png": "[encoded data removed]",
            "text/plain": [
              "<PIL.JpegImagePlugin.JpegImageFile image mode=L size=32x32 at 0x7FC4C4447F60>"
            ]
          },
          "metadata": {
            "tags": []
          }
        },
        {
          "output_type": "display_data",
          "data": {
            "image/png": "[encoded data removed]",
            "text/plain": [
              "<PIL.JpegImagePlugin.JpegImageFile image mode=L size=32x32 at 0x7FC4C4447E48>"
            ]
          },
          "metadata": {
            "tags": []
          }
        },
        {
          "output_type": "display_data",
          "data": {
            "image/png": "[encoded data removed]",
            "text/plain": [
              "<PIL.JpegImagePlugin.JpegImageFile image mode=L size=32x32 at 0x7FC4C4447E48>"
            ]
          },
          "metadata": {
            "tags": []
          }
        }
      ]
    },
    {
      "cell_type": "code",
      "metadata": {
        "id": "eKJcgyBwx1s2",
        "colab_type": "code",
        "colab": {}
      },
      "source": [
        "from tensorflow.keras.models import Sequential\n",
        "from tensorflow.keras.layers import Dense, Conv2D, Flatten, Dropout, MaxPooling2D\n",
        "from tensorflow.keras.preprocessing.image import ImageDataGenerator\n",
        "from tensorflow.keras import datasets, layers, models\n",
        "import os\n",
        "import numpy as np\n",
        "import matplotlib.pyplot as plt"
      ],
      "execution_count": 0,
      "outputs": []
    },
    {
      "cell_type": "code",
      "metadata": {
        "id": "Nb8uMFIvElrI",
        "colab_type": "code",
        "colab": {}
      },
      "source": [
        "# The 1./255 is to convert from uint8 to float32 in range [0,1].\n",
        "image_generator = tf.keras.preprocessing.image.ImageDataGenerator(rescale=1./255)\n",
        "\n",
        "test_image_generator = tf.keras.preprocessing.image.ImageDataGenerator(rescale=1./255)\n",
        "BATCH_SIZE = 32\n",
        "IMG_HEIGHT = 32\n",
        "IMG_WIDTH = 32\n",
        "STEPS_PER_EPOCH = np.ceil(img_count/BATCH_SIZE)\n"
      ],
      "execution_count": 0,
      "outputs": []
    },
    {
      "cell_type": "code",
      "metadata": {
        "id": "zUPPEFFyFxHS",
        "colab_type": "code",
        "outputId": "85847550-2f61-4ab5-90f3-1723d424254e",
        "colab": {
          "base_uri": "https://localhost:8080/",
          "height": 52
        }
      },
      "source": [
        "train_data_gen = image_generator.flow_from_directory(directory=str(data_dir),\n",
        "                                                     batch_size=BATCH_SIZE,\n",
        "                                                     shuffle=True,\n",
        "                                                     target_size=(IMG_HEIGHT, IMG_WIDTH),\n",
        "                                                     classes = list(class_names))\n",
        "\n",
        "test_data_gen=test_image_generator.flow_from_directory(directory=str(test_dir),\n",
        "                                                     batch_size=BATCH_SIZE,\n",
        "                                                     shuffle=True,\n",
        "                                                     target_size=(IMG_HEIGHT, IMG_WIDTH),\n",
        "                                                     )\n"
      ],
      "execution_count": 14,
      "outputs": [
        {
          "output_type": "stream",
          "text": [
            "Found 1080 images belonging to 43 classes.\n",
            "Found 17 images belonging to 1 classes.\n"
          ],
          "name": "stdout"
        }
      ]
    },
    {
      "cell_type": "code",
      "metadata": {
        "id": "DxMhthrWe6Eu",
        "colab_type": "code",
        "outputId": "b477b665-a694-4780-c7d2-81cd32d2d884",
        "colab": {
          "base_uri": "https://localhost:8080/",
          "height": 1000
        }
      },
      "source": [
        "image_batch, label_batch = next(iter(train_data_gen))\n",
        "#image_batch_train, label_batch_train = next(iter(train_generator))\n",
        "test_batch,test_label=next(iter(test_data_gen))\n",
        "print(image_batch.shape)\n",
        "print(label_batch.shape)\n",
        "print(label_batch)\n",
        "print(image_batch)\n",
        "dataset_labels = sorted(train_data_gen.class_indices.items(), key=lambda pair:pair[1])\n",
        "dataset_labels = np.array([key.title() for key, value in dataset_labels])\n",
        "print(dataset_labels)"
      ],
      "execution_count": 15,
      "outputs": [
        {
          "output_type": "stream",
          "text": [
            "(32, 32, 32, 3)\n",
            "(32, 43)\n",
            "[[0. 0. 0. ... 0. 0. 0.]\n",
            " [0. 0. 0. ... 0. 0. 1.]\n",
            " [0. 0. 0. ... 0. 0. 0.]\n",
            " ...\n",
            " [0. 0. 0. ... 0. 0. 0.]\n",
            " [0. 0. 0. ... 0. 0. 0.]\n",
            " [0. 0. 0. ... 0. 0. 0.]]\n",
            "[[[[1.         1.         1.        ]\n",
            "   [1.         1.         1.        ]\n",
            "   [1.         1.         1.        ]\n",
            "   ...\n",
            "   [1.         1.         1.        ]\n",
            "   [0.00784314 0.00784314 0.00784314]\n",
            "   [0.9843138  0.9843138  0.9843138 ]]\n",
            "\n",
            "  [[1.         1.         1.        ]\n",
            "   [1.         1.         1.        ]\n",
            "   [1.         1.         1.        ]\n",
            "   ...\n",
            "   [0.         0.         0.        ]\n",
            "   [0.         0.         0.        ]\n",
            "   [0.         0.         0.        ]]\n",
            "\n",
            "  [[1.         1.         1.        ]\n",
            "   [1.         1.         1.        ]\n",
            "   [1.         1.         1.        ]\n",
            "   ...\n",
            "   [0.         0.         0.        ]\n",
            "   [0.02745098 0.02745098 0.02745098]\n",
            "   [1.         1.         1.        ]]\n",
            "\n",
            "  ...\n",
            "\n",
            "  [[0.0509804  0.0509804  0.0509804 ]\n",
            "   [0.         0.         0.        ]\n",
            "   [0.         0.         0.        ]\n",
            "   ...\n",
            "   [1.         1.         1.        ]\n",
            "   [1.         1.         1.        ]\n",
            "   [1.         1.         1.        ]]\n",
            "\n",
            "  [[0.         0.         0.        ]\n",
            "   [0.07058824 0.07058824 0.07058824]\n",
            "   [0.         0.         0.        ]\n",
            "   ...\n",
            "   [1.         1.         1.        ]\n",
            "   [1.         1.         1.        ]\n",
            "   [1.         1.         1.        ]]\n",
            "\n",
            "  [[1.         1.         1.        ]\n",
            "   [0.9607844  0.9607844  0.9607844 ]\n",
            "   [0.03921569 0.03921569 0.03921569]\n",
            "   ...\n",
            "   [1.         1.         1.        ]\n",
            "   [1.         1.         1.        ]\n",
            "   [1.         1.         1.        ]]]\n",
            "\n",
            "\n",
            " [[[1.         1.         1.        ]\n",
            "   [1.         1.         1.        ]\n",
            "   [1.         1.         1.        ]\n",
            "   ...\n",
            "   [1.         1.         1.        ]\n",
            "   [1.         1.         1.        ]\n",
            "   [1.         1.         1.        ]]\n",
            "\n",
            "  [[1.         1.         1.        ]\n",
            "   [1.         1.         1.        ]\n",
            "   [1.         1.         1.        ]\n",
            "   ...\n",
            "   [1.         1.         1.        ]\n",
            "   [1.         1.         1.        ]\n",
            "   [1.         1.         1.        ]]\n",
            "\n",
            "  [[1.         1.         1.        ]\n",
            "   [1.         1.         1.        ]\n",
            "   [1.         1.         1.        ]\n",
            "   ...\n",
            "   [1.         1.         1.        ]\n",
            "   [1.         1.         1.        ]\n",
            "   [1.         1.         1.        ]]\n",
            "\n",
            "  ...\n",
            "\n",
            "  [[1.         1.         1.        ]\n",
            "   [0.9960785  0.9960785  0.9960785 ]\n",
            "   [1.         1.         1.        ]\n",
            "   ...\n",
            "   [0.         0.         0.        ]\n",
            "   [0.9568628  0.9568628  0.9568628 ]\n",
            "   [1.         1.         1.        ]]\n",
            "\n",
            "  [[1.         1.         1.        ]\n",
            "   [0.9568628  0.9568628  0.9568628 ]\n",
            "   [1.         1.         1.        ]\n",
            "   ...\n",
            "   [0.         0.         0.        ]\n",
            "   [1.         1.         1.        ]\n",
            "   [0.96470594 0.96470594 0.96470594]]\n",
            "\n",
            "  [[0.9960785  0.9960785  0.9960785 ]\n",
            "   [1.         1.         1.        ]\n",
            "   [0.9686275  0.9686275  0.9686275 ]\n",
            "   ...\n",
            "   [1.         1.         1.        ]\n",
            "   [0.95294124 0.95294124 0.95294124]\n",
            "   [1.         1.         1.        ]]]\n",
            "\n",
            "\n",
            " [[[1.         1.         1.        ]\n",
            "   [1.         1.         1.        ]\n",
            "   [0.9921569  0.9921569  0.9921569 ]\n",
            "   ...\n",
            "   [1.         1.         1.        ]\n",
            "   [0.9725491  0.9725491  0.9725491 ]\n",
            "   [1.         1.         1.        ]]\n",
            "\n",
            "  [[0.9803922  0.9803922  0.9803922 ]\n",
            "   [0.9921569  0.9921569  0.9921569 ]\n",
            "   [0.9921569  0.9921569  0.9921569 ]\n",
            "   ...\n",
            "   [0.9921569  0.9921569  0.9921569 ]\n",
            "   [1.         1.         1.        ]\n",
            "   [0.9960785  0.9960785  0.9960785 ]]\n",
            "\n",
            "  [[1.         1.         1.        ]\n",
            "   [1.         1.         1.        ]\n",
            "   [1.         1.         1.        ]\n",
            "   ...\n",
            "   [0.98823535 0.98823535 0.98823535]\n",
            "   [0.9843138  0.9843138  0.9843138 ]\n",
            "   [1.         1.         1.        ]]\n",
            "\n",
            "  ...\n",
            "\n",
            "  [[1.         1.         1.        ]\n",
            "   [0.9686275  0.9686275  0.9686275 ]\n",
            "   [0.96470594 0.96470594 0.96470594]\n",
            "   ...\n",
            "   [0.01176471 0.01176471 0.01176471]\n",
            "   [1.         1.         1.        ]\n",
            "   [0.98823535 0.98823535 0.98823535]]\n",
            "\n",
            "  [[0.9607844  0.9607844  0.9607844 ]\n",
            "   [1.         1.         1.        ]\n",
            "   [1.         1.         1.        ]\n",
            "   ...\n",
            "   [0.         0.         0.        ]\n",
            "   [0.9215687  0.9215687  0.9215687 ]\n",
            "   [1.         1.         1.        ]]\n",
            "\n",
            "  [[1.         1.         1.        ]\n",
            "   [0.9921569  0.9921569  0.9921569 ]\n",
            "   [0.9725491  0.9725491  0.9725491 ]\n",
            "   ...\n",
            "   [0.9921569  0.9921569  0.9921569 ]\n",
            "   [1.         1.         1.        ]\n",
            "   [0.97647065 0.97647065 0.97647065]]]\n",
            "\n",
            "\n",
            " ...\n",
            "\n",
            "\n",
            " [[[0.9843138  0.9843138  0.9843138 ]\n",
            "   [0.9803922  0.9803922  0.9803922 ]\n",
            "   [0.97647065 0.97647065 0.97647065]\n",
            "   ...\n",
            "   [0.00392157 0.00392157 0.00392157]\n",
            "   [1.         1.         1.        ]\n",
            "   [1.         1.         1.        ]]\n",
            "\n",
            "  [[0.9960785  0.9960785  0.9960785 ]\n",
            "   [1.         1.         1.        ]\n",
            "   [0.93725497 0.93725497 0.93725497]\n",
            "   ...\n",
            "   [0.         0.         0.        ]\n",
            "   [1.         1.         1.        ]\n",
            "   [0.9803922  0.9803922  0.9803922 ]]\n",
            "\n",
            "  [[1.         1.         1.        ]\n",
            "   [0.9176471  0.9176471  0.9176471 ]\n",
            "   [1.         1.         1.        ]\n",
            "   ...\n",
            "   [0.         0.         0.        ]\n",
            "   [1.         1.         1.        ]\n",
            "   [0.9960785  0.9960785  0.9960785 ]]\n",
            "\n",
            "  ...\n",
            "\n",
            "  [[1.         1.         1.        ]\n",
            "   [0.9843138  0.9843138  0.9843138 ]\n",
            "   [0.98823535 0.98823535 0.98823535]\n",
            "   ...\n",
            "   [0.07450981 0.07450981 0.07450981]\n",
            "   [0.         0.         0.        ]\n",
            "   [0.03137255 0.03137255 0.03137255]]\n",
            "\n",
            "  [[0.9921569  0.9921569  0.9921569 ]\n",
            "   [1.         1.         1.        ]\n",
            "   [1.         1.         1.        ]\n",
            "   ...\n",
            "   [0.         0.         0.        ]\n",
            "   [0.13333334 0.13333334 0.13333334]\n",
            "   [0.9490197  0.9490197  0.9490197 ]]\n",
            "\n",
            "  [[0.9960785  0.9960785  0.9960785 ]\n",
            "   [0.9803922  0.9803922  0.9803922 ]\n",
            "   [0.9960785  0.9960785  0.9960785 ]\n",
            "   ...\n",
            "   [0.09803922 0.09803922 0.09803922]\n",
            "   [0.93725497 0.93725497 0.93725497]\n",
            "   [1.         1.         1.        ]]]\n",
            "\n",
            "\n",
            " [[[0.9921569  0.9921569  0.9921569 ]\n",
            "   [1.         1.         1.        ]\n",
            "   [0.9686275  0.9686275  0.9686275 ]\n",
            "   ...\n",
            "   [0.96470594 0.96470594 0.96470594]\n",
            "   [0.98823535 0.98823535 0.98823535]\n",
            "   [1.         1.         1.        ]]\n",
            "\n",
            "  [[0.9921569  0.9921569  0.9921569 ]\n",
            "   [1.         1.         1.        ]\n",
            "   [1.         1.         1.        ]\n",
            "   ...\n",
            "   [1.         1.         1.        ]\n",
            "   [1.         1.         1.        ]\n",
            "   [0.95294124 0.95294124 0.95294124]]\n",
            "\n",
            "  [[1.         1.         1.        ]\n",
            "   [0.95294124 0.95294124 0.95294124]\n",
            "   [0.9686275  0.9686275  0.9686275 ]\n",
            "   ...\n",
            "   [0.9490197  0.9490197  0.9490197 ]\n",
            "   [0.96470594 0.96470594 0.96470594]\n",
            "   [1.         1.         1.        ]]\n",
            "\n",
            "  ...\n",
            "\n",
            "  [[0.9607844  0.9607844  0.9607844 ]\n",
            "   [1.         1.         1.        ]\n",
            "   [1.         1.         1.        ]\n",
            "   ...\n",
            "   [0.9725491  0.9725491  0.9725491 ]\n",
            "   [1.         1.         1.        ]\n",
            "   [1.         1.         1.        ]]\n",
            "\n",
            "  [[1.         1.         1.        ]\n",
            "   [0.9686275  0.9686275  0.9686275 ]\n",
            "   [1.         1.         1.        ]\n",
            "   ...\n",
            "   [1.         1.         1.        ]\n",
            "   [0.97647065 0.97647065 0.97647065]\n",
            "   [1.         1.         1.        ]]\n",
            "\n",
            "  [[0.9843138  0.9843138  0.9843138 ]\n",
            "   [1.         1.         1.        ]\n",
            "   [0.9725491  0.9725491  0.9725491 ]\n",
            "   ...\n",
            "   [0.97647065 0.97647065 0.97647065]\n",
            "   [1.         1.         1.        ]\n",
            "   [0.98823535 0.98823535 0.98823535]]]\n",
            "\n",
            "\n",
            " [[[1.         1.         1.        ]\n",
            "   [1.         1.         1.        ]\n",
            "   [1.         1.         1.        ]\n",
            "   ...\n",
            "   [1.         1.         1.        ]\n",
            "   [0.9921569  0.9921569  0.9921569 ]\n",
            "   [1.         1.         1.        ]]\n",
            "\n",
            "  [[1.         1.         1.        ]\n",
            "   [1.         1.         1.        ]\n",
            "   [1.         1.         1.        ]\n",
            "   ...\n",
            "   [0.9960785  0.9960785  0.9960785 ]\n",
            "   [1.         1.         1.        ]\n",
            "   [0.9960785  0.9960785  0.9960785 ]]\n",
            "\n",
            "  [[1.         1.         1.        ]\n",
            "   [1.         1.         1.        ]\n",
            "   [1.         1.         1.        ]\n",
            "   ...\n",
            "   [0.98823535 0.98823535 0.98823535]\n",
            "   [0.9568628  0.9568628  0.9568628 ]\n",
            "   [1.         1.         1.        ]]\n",
            "\n",
            "  ...\n",
            "\n",
            "  [[0.         0.         0.        ]\n",
            "   [0.03529412 0.03529412 0.03529412]\n",
            "   [0.         0.         0.        ]\n",
            "   ...\n",
            "   [1.         1.         1.        ]\n",
            "   [0.9725491  0.9725491  0.9725491 ]\n",
            "   [1.         1.         1.        ]]\n",
            "\n",
            "  [[0.03921569 0.03921569 0.03921569]\n",
            "   [0.         0.         0.        ]\n",
            "   [0.07450981 0.07450981 0.07450981]\n",
            "   ...\n",
            "   [0.9725491  0.9725491  0.9725491 ]\n",
            "   [1.         1.         1.        ]\n",
            "   [0.96470594 0.96470594 0.96470594]]\n",
            "\n",
            "  [[0.         0.         0.        ]\n",
            "   [0.01960784 0.01960784 0.01960784]\n",
            "   [0.9960785  0.9960785  0.9960785 ]\n",
            "   ...\n",
            "   [1.         1.         1.        ]\n",
            "   [0.96470594 0.96470594 0.96470594]\n",
            "   [1.         1.         1.        ]]]]\n",
            "['O3' 'Sa2' 'Tha1' 'Ra1' 'La2' 'Da1' 'I' 'La1' 'Ka1' 'E1' 'E2' 'Ba2' 'Ta1'\n",
            " 'Ru' 'Dha1' 'Va' 'Ga2' 'Ana' 'Cha2' 'A1' 'Ja2' 'O1' 'U2' 'Na' 'Ga1' 'Ma'\n",
            " 'Sa1' 'Sa3' 'Um' 'Ya' 'Ksha' 'Da2' 'Pa2' 'O2' 'A2' 'Ba1' 'Dha2' 'Ha'\n",
            " 'Ja1' 'Ra2' 'Ka2' 'Pa1' 'U1']\n"
          ],
          "name": "stdout"
        }
      ]
    },
    {
      "cell_type": "code",
      "metadata": {
        "id": "HrG1PeQKfns4",
        "colab_type": "code",
        "outputId": "b8413577-ea5b-43ed-c385-4e85ec40dc4b",
        "colab": {
          "base_uri": "https://localhost:8080/",
          "height": 193
        }
      },
      "source": [
        "def plotImages(images_arr):\n",
        "    fig, axes = plt.subplots(1, 5, figsize=(32,32))\n",
        "    axes = axes.flatten()\n",
        "    for img, ax in zip( images_arr, axes):\n",
        "        ax.imshow(img)\n",
        "        ax.axis('off')\n",
        "    plt.tight_layout()\n",
        "    plt.show()\n",
        "\n",
        "plotImages(image_batch[:5])\n"
      ],
      "execution_count": 16,
      "outputs": [
        {
          "output_type": "display_data",
          "data": {
            "image/png": "[encoded data removed]",
            "text/plain": [
              "<Figure size 2304x2304 with 5 Axes>"
            ]
          },
          "metadata": {
            "tags": [],
            "needs_background": "light"
          }
        }
      ]
    },
    {
      "cell_type": "markdown",
      "metadata": {
        "id": "PfPWLr1ygCVX",
        "colab_type": "text"
      },
      "source": [
        "Model create"
      ]
    },
    {
      "cell_type": "code",
      "metadata": {
        "id": "-CFFi166gE5H",
        "colab_type": "code",
        "outputId": "025ec347-020d-43f7-fc60-750c3b7d011f",
        "colab": {
          "base_uri": "https://localhost:8080/",
          "height": 434
        }
      },
      "source": [
        "model = Sequential()\n",
        "model.add(Conv2D(32, kernel_size=(3, 3),\n",
        "                 activation='relu',\n",
        "                 input_shape=(32, 32, 3)))\n",
        "model.add(Conv2D(64, (3, 3), activation='relu'))\n",
        "model.add(MaxPooling2D(pool_size=(2, 2)))\n",
        "model.add(Dropout(0.25))\n",
        "model.add(Flatten())\n",
        "model.add(Dense(128, activation='relu'))\n",
        "model.add(Dropout(0.5))\n",
        "model.add(Dense(43, activation='softmax'))\n",
        "\n",
        "model.summary()\n",
        "\n"
      ],
      "execution_count": 17,
      "outputs": [
        {
          "output_type": "stream",
          "text": [
            "Model: \"sequential\"\n",
            "_________________________________________________________________\n",
            "Layer (type)                 Output Shape              Param #   \n",
            "=================================================================\n",
            "conv2d (Conv2D)              (None, 30, 30, 32)        896       \n",
            "_________________________________________________________________\n",
            "conv2d_1 (Conv2D)            (None, 28, 28, 64)        18496     \n",
            "_________________________________________________________________\n",
            "max_pooling2d (MaxPooling2D) (None, 14, 14, 64)        0         \n",
            "_________________________________________________________________\n",
            "dropout (Dropout)            (None, 14, 14, 64)        0         \n",
            "_________________________________________________________________\n",
            "flatten (Flatten)            (None, 12544)             0         \n",
            "_________________________________________________________________\n",
            "dense (Dense)                (None, 128)               1605760   \n",
            "_________________________________________________________________\n",
            "dropout_1 (Dropout)          (None, 128)               0         \n",
            "_________________________________________________________________\n",
            "dense_1 (Dense)              (None, 43)                5547      \n",
            "=================================================================\n",
            "Total params: 1,630,699\n",
            "Trainable params: 1,630,699\n",
            "Non-trainable params: 0\n",
            "_________________________________________________________________\n"
          ],
          "name": "stdout"
        }
      ]
    },
    {
      "cell_type": "code",
      "metadata": {
        "id": "JE9puAeWhdC_",
        "colab_type": "code",
        "colab": {}
      },
      "source": [
        "model.compile(\n",
        "  optimizer=tf.keras.optimizers.Adam(),\n",
        "  loss='categorical_crossentropy',\n",
        "  metrics=['acc'])"
      ],
      "execution_count": 0,
      "outputs": []
    },
    {
      "cell_type": "code",
      "metadata": {
        "id": "A5i0JuG0ty1d",
        "colab_type": "code",
        "colab": {}
      },
      "source": [
        "steps_per_epoch = np.ceil(train_data_gen.samples/train_data_gen.batch_size)"
      ],
      "execution_count": 0,
      "outputs": []
    },
    {
      "cell_type": "code",
      "metadata": {
        "id": "Gi-fakRXlZJj",
        "colab_type": "code",
        "outputId": "4f6ba265-456c-41c3-a802-7dcd6b1ecf4e",
        "colab": {
          "base_uri": "https://localhost:8080/",
          "height": 712
        }
      },
      "source": [
        "# model.fit(image_batch, label_batch ,epochs=20)\n",
        "#Train the Model\n",
        "hist = model.fit(\n",
        "    train_data_gen, \n",
        "    epochs=20,\n",
        "    verbose=1,\n",
        "    steps_per_epoch=steps_per_epoch).history\n",
        "#history = model.fit(image_batch, label_batch ,epochs=20)"
      ],
      "execution_count": 20,
      "outputs": [
        {
          "output_type": "stream",
          "text": [
            "Epoch 1/20\n",
            "34/34 [==============================] - 1s 19ms/step - loss: 3.5605 - acc: 0.1009\n",
            "Epoch 2/20\n",
            "34/34 [==============================] - 1s 18ms/step - loss: 1.9740 - acc: 0.4593\n",
            "Epoch 3/20\n",
            "34/34 [==============================] - 1s 18ms/step - loss: 1.0649 - acc: 0.6991\n",
            "Epoch 4/20\n",
            "34/34 [==============================] - 1s 18ms/step - loss: 0.7340 - acc: 0.7833\n",
            "Epoch 5/20\n",
            "34/34 [==============================] - 1s 18ms/step - loss: 0.5875 - acc: 0.8130\n",
            "Epoch 6/20\n",
            "34/34 [==============================] - 1s 18ms/step - loss: 0.4677 - acc: 0.8491\n",
            "Epoch 7/20\n",
            "34/34 [==============================] - 1s 17ms/step - loss: 0.3774 - acc: 0.8806\n",
            "Epoch 8/20\n",
            "34/34 [==============================] - 1s 18ms/step - loss: 0.3130 - acc: 0.9065\n",
            "Epoch 9/20\n",
            "34/34 [==============================] - 1s 17ms/step - loss: 0.3013 - acc: 0.8981\n",
            "Epoch 10/20\n",
            "34/34 [==============================] - 1s 18ms/step - loss: 0.2753 - acc: 0.9093\n",
            "Epoch 11/20\n",
            "34/34 [==============================] - 1s 19ms/step - loss: 0.2522 - acc: 0.9130\n",
            "Epoch 12/20\n",
            "34/34 [==============================] - 1s 18ms/step - loss: 0.2304 - acc: 0.9222\n",
            "Epoch 13/20\n",
            "34/34 [==============================] - 1s 18ms/step - loss: 0.2233 - acc: 0.9222\n",
            "Epoch 14/20\n",
            "34/34 [==============================] - 1s 18ms/step - loss: 0.1841 - acc: 0.9407\n",
            "Epoch 15/20\n",
            "34/34 [==============================] - 1s 17ms/step - loss: 0.1953 - acc: 0.9352\n",
            "Epoch 16/20\n",
            "34/34 [==============================] - 1s 18ms/step - loss: 0.1589 - acc: 0.9472\n",
            "Epoch 17/20\n",
            "34/34 [==============================] - 1s 18ms/step - loss: 0.1713 - acc: 0.9417\n",
            "Epoch 18/20\n",
            "34/34 [==============================] - 1s 18ms/step - loss: 0.1729 - acc: 0.9380\n",
            "Epoch 19/20\n",
            "34/34 [==============================] - 1s 18ms/step - loss: 0.1323 - acc: 0.9472\n",
            "Epoch 20/20\n",
            "34/34 [==============================] - 1s 18ms/step - loss: 0.1446 - acc: 0.9472\n"
          ],
          "name": "stdout"
        }
      ]
    },
    {
      "cell_type": "code",
      "metadata": {
        "id": "eEbXI6P-wGvR",
        "colab_type": "code",
        "outputId": "b716a81b-0501-4fc7-9dcc-0e447b5996dc",
        "colab": {
          "base_uri": "https://localhost:8080/",
          "height": 318
        }
      },
      "source": [
        "plt.plot(hist['loss'])\n",
        "plt.xlabel('Epoch')\n",
        "plt.ylabel('Accuracy')\n",
        "plt.ylim([0.01, 2])\n",
        "plt.legend(loc='lower right')\n"
      ],
      "execution_count": 21,
      "outputs": [
        {
          "output_type": "stream",
          "text": [
            "No handles with labels found to put in legend.\n"
          ],
          "name": "stderr"
        },
        {
          "output_type": "execute_result",
          "data": {
            "text/plain": [
              "<matplotlib.legend.Legend at 0x7fc4b016d0f0>"
            ]
          },
          "metadata": {
            "tags": []
          },
          "execution_count": 21
        },
        {
          "output_type": "display_data",
          "data": {
            "image/png": "[encoded data removed]",
            "text/plain": [
              "<Figure size 432x288 with 1 Axes>"
            ]
          },
          "metadata": {
            "tags": [],
            "needs_background": "light"
          }
        }
      ]
    },
    {
      "cell_type": "code",
      "metadata": {
        "id": "yJgDWb07fcni",
        "colab_type": "code",
        "outputId": "8f459652-8cb2-4d9c-9066-016d48f0dc5a",
        "colab": {
          "base_uri": "https://localhost:8080/",
          "height": 300
        }
      },
      "source": [
        "plt.figure()\n",
        "plt.ylabel(\"Loss traing\")\n",
        "plt.xlabel(\"Training Steps\")\n",
        "plt.ylim([0,1])\n",
        "plt.plot(hist[\"acc\"])\n"
      ],
      "execution_count": 22,
      "outputs": [
        {
          "output_type": "execute_result",
          "data": {
            "text/plain": [
              "[<matplotlib.lines.Line2D at 0x7fc4b00c8c88>]"
            ]
          },
          "metadata": {
            "tags": []
          },
          "execution_count": 22
        },
        {
          "output_type": "display_data",
          "data": {
            "image/png": "[encoded data removed]",
            "text/plain": [
              "<Figure size 432x288 with 1 Axes>"
            ]
          },
          "metadata": {
            "tags": [],
            "needs_background": "light"
          }
        }
      ]
    },
    {
      "cell_type": "code",
      "metadata": {
        "id": "2iRhRzMFxHa0",
        "colab_type": "code",
        "outputId": "553de0e4-cc1f-437d-888e-7b6fab562e99",
        "colab": {
          "base_uri": "https://localhost:8080/",
          "height": 52
        }
      },
      "source": [
        "predicted_batch = model.predict(image_batch)\n",
        "predicted_id = np.argmax(predicted_batch, axis=-1)\n",
        "print(predicted_id)\n",
        "predicted_label_batch = class_names[predicted_id]\n",
        "\n",
        "\n",
        "\n",
        "label_id = np.argmax(label_batch, axis=-1)\n"
      ],
      "execution_count": 23,
      "outputs": [
        {
          "output_type": "stream",
          "text": [
            "[15 42 29 20 19 19 32  5 15 25 38 10  0 29 15  5 19 33 41  1  5 17 22  6\n",
            "  8  0 24 41 12 30 39 26]\n"
          ],
          "name": "stdout"
        }
      ]
    },
    {
      "cell_type": "code",
      "metadata": {
        "id": "T0gL9jPw-Q-S",
        "colab_type": "code",
        "outputId": "6b5c3233-1ca2-4f02-95e2-f21259908974",
        "colab": {
          "base_uri": "https://localhost:8080/",
          "height": 412
        }
      },
      "source": [
        "plt.figure(figsize=(10,9))\n",
        "plt.subplots_adjust(hspace=0.5)\n",
        "for n in range(20):\n",
        "  plt.subplot(6,5,n+1)\n",
        "  plt.imshow(image_batch[n])\n",
        "  color = \"green\" if predicted_id[n] == label_id[n] else \"red\"\n",
        "  plt.title(predicted_label_batch[n].title(), color=color)\n",
        "  plt.axis('off')\n",
        "_ = plt.suptitle(\"Model predictions (green: correct, red: incorrect)\")\n"
      ],
      "execution_count": 24,
      "outputs": [
        {
          "output_type": "display_data",
          "data": {
            "image/png": "[encoded data removed]",
            "text/plain": [
              "<Figure size 720x648 with 20 Axes>"
            ]
          },
          "metadata": {
            "tags": [],
            "needs_background": "light"
          }
        }
      ]
    },
    {
      "cell_type": "code",
      "metadata": {
        "id": "wSpHx1yIHJ01",
        "colab_type": "code",
        "outputId": "484fc6e6-257c-423f-8641-de570bf5808f",
        "colab": {
          "base_uri": "https://localhost:8080/",
          "height": 69
        }
      },
      "source": [
        "predicted_batch = model.predict(test_batch)\n",
        "predicted_id = np.argmax(predicted_batch, axis=-1)\n",
        "print(predicted_id)\n",
        "predicted_label_batch = class_names[predicted_id]\n",
        "print(predicted_label_batch)"
      ],
      "execution_count": 25,
      "outputs": [
        {
          "output_type": "stream",
          "text": [
            "[21 42 35 15 16 30 21 42 34 11 42 30 15 42 34 11 21]\n",
            "['o1' 'u1' 'ba1' 'va' 'ga2' 'ksha' 'o1' 'u1' 'a2' 'ba2' 'u1' 'ksha' 'va'\n",
            " 'u1' 'a2' 'ba2' 'o1']\n"
          ],
          "name": "stdout"
        }
      ]
    },
    {
      "cell_type": "code",
      "metadata": {
        "id": "pzk2-UcAHzjM",
        "colab_type": "code",
        "outputId": "e255b2d0-787c-4520-f513-96add60de372",
        "colab": {
          "base_uri": "https://localhost:8080/",
          "height": 240
        }
      },
      "source": [
        "plt.figure(figsize=(10,9))\n",
        "plt.subplots_adjust(hspace=0.5)\n",
        "for n in range(7):\n",
        "  plt.subplot(6,5,n+1)\n",
        "  plt.imshow(test_batch[n])\n",
        "\n",
        "  plt.title(predicted_label_batch[n].title(), color=color)\n",
        "  plt.axis('off')\n",
        "_ = plt.suptitle(\"Model predictions (green: correct, red: incorrect)\")\n",
        "\n"
      ],
      "execution_count": 26,
      "outputs": [
        {
          "output_type": "display_data",
          "data": {
            "image/png": "[encoded data removed]",
            "text/plain": [
              "<Figure size 720x648 with 7 Axes>"
            ]
          },
          "metadata": {
            "tags": [],
            "needs_background": "light"
          }
        }
      ]
    },
    {
      "cell_type": "code",
      "metadata": {
        "id": "X21cZXzxaMqo",
        "colab_type": "code",
        "colab": {}
      },
      "source": [
        ""
      ],
      "execution_count": 0,
      "outputs": []
    }
  ]
}